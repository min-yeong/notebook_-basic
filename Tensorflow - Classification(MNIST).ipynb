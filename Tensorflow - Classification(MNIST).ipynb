{
 "cells": [
  {
   "cell_type": "code",
   "execution_count": 1,
   "metadata": {},
   "outputs": [
    {
     "name": "stdout",
     "output_type": "stream",
     "text": [
      "WARNING:tensorflow:From <ipython-input-1-7277460b75e2>:4: read_data_sets (from tensorflow.contrib.learn.python.learn.datasets.mnist) is deprecated and will be removed in a future version.\n",
      "Instructions for updating:\n",
      "Please use alternatives such as official/mnist/dataset.py from tensorflow/models.\n",
      "WARNING:tensorflow:From C:\\Users\\BIT\\Anaconda3\\envs\\bitenv\\lib\\site-packages\\tensorflow_core\\contrib\\learn\\python\\learn\\datasets\\mnist.py:260: maybe_download (from tensorflow.contrib.learn.python.learn.datasets.base) is deprecated and will be removed in a future version.\n",
      "Instructions for updating:\n",
      "Please write your own downloading logic.\n",
      "WARNING:tensorflow:From C:\\Users\\BIT\\Anaconda3\\envs\\bitenv\\lib\\site-packages\\tensorflow_core\\contrib\\learn\\python\\learn\\datasets\\mnist.py:262: extract_images (from tensorflow.contrib.learn.python.learn.datasets.mnist) is deprecated and will be removed in a future version.\n",
      "Instructions for updating:\n",
      "Please use tf.data to implement this functionality.\n",
      "Extracting ./mnist/data\\train-images-idx3-ubyte.gz\n",
      "WARNING:tensorflow:From C:\\Users\\BIT\\Anaconda3\\envs\\bitenv\\lib\\site-packages\\tensorflow_core\\contrib\\learn\\python\\learn\\datasets\\mnist.py:267: extract_labels (from tensorflow.contrib.learn.python.learn.datasets.mnist) is deprecated and will be removed in a future version.\n",
      "Instructions for updating:\n",
      "Please use tf.data to implement this functionality.\n",
      "Extracting ./mnist/data\\train-labels-idx1-ubyte.gz\n",
      "WARNING:tensorflow:From C:\\Users\\BIT\\Anaconda3\\envs\\bitenv\\lib\\site-packages\\tensorflow_core\\contrib\\learn\\python\\learn\\datasets\\mnist.py:110: dense_to_one_hot (from tensorflow.contrib.learn.python.learn.datasets.mnist) is deprecated and will be removed in a future version.\n",
      "Instructions for updating:\n",
      "Please use tf.one_hot on tensors.\n",
      "Extracting ./mnist/data\\t10k-images-idx3-ubyte.gz\n",
      "Extracting ./mnist/data\\t10k-labels-idx1-ubyte.gz\n",
      "WARNING:tensorflow:From C:\\Users\\BIT\\Anaconda3\\envs\\bitenv\\lib\\site-packages\\tensorflow_core\\contrib\\learn\\python\\learn\\datasets\\mnist.py:290: DataSet.__init__ (from tensorflow.contrib.learn.python.learn.datasets.mnist) is deprecated and will be removed in a future version.\n",
      "Instructions for updating:\n",
      "Please use alternatives such as official/mnist/dataset.py from tensorflow/models.\n"
     ]
    }
   ],
   "source": [
    "import tensorflow as tf\n",
    "# MNIST 데이터 확보\n",
    "from tensorflow.examples.tutorials.mnist import input_data\n",
    "mnist = input_data.read_data_sets(\"./mnist/data\", one_hot=True)"
   ]
  },
  {
   "cell_type": "code",
   "execution_count": 2,
   "metadata": {},
   "outputs": [
    {
     "name": "stdout",
     "output_type": "stream",
     "text": [
      "학습 데이터: 55000\n",
      "테스트 데이터: 10000\n"
     ]
    }
   ],
   "source": [
    "# 데이터의 개수 확인\n",
    "print(\"학습 데이터:\", mnist.train.num_examples)\n",
    "print(\"테스트 데이터:\", mnist.test.num_examples)"
   ]
  },
  {
   "cell_type": "code",
   "execution_count": 3,
   "metadata": {},
   "outputs": [
    {
     "name": "stdout",
     "output_type": "stream",
     "text": [
      "Training Image Size: (784,)\n",
      "Label: [1. 0. 0. 0. 0. 0. 0. 0. 0. 0.]\n",
      "실제 라벨(Not One Hotcoding): 0\n"
     ]
    },
    {
     "data": {
      "image/png": "[encoded data removed]",
      "text/plain": [
       "<Figure size 432x288 with 1 Axes>"
      ]
     },
     "metadata": {
      "needs_background": "light"
     },
     "output_type": "display_data"
    }
   ],
   "source": [
    "%matplotlib inline\n",
    "# 데이터 살피기\n",
    "import matplotlib.pyplot as plt\n",
    "import numpy as np\n",
    "\n",
    "# mnist 안쪽의 데이터 확인\n",
    "#print(help(mnist))\n",
    "# 학습을 위한 이미지데이터 확인\n",
    "index = 10\n",
    "# 학습 이미지 사이즈 확인\n",
    "print(\"Training Image Size:\", mnist.train.images[index].shape) # 784 = 28 * 28 픽셀의 이미지\n",
    "# 학습 라벨 데이터 확인\n",
    "print(\"Label:\", mnist.train.labels[index])\n",
    "#print(\"image Data:\\n\", mnist.train.images[index].reshape(28, 28))\n",
    "plt.imshow(mnist.train.images[index].reshape(28, 28))\n",
    "print(\"실제 라벨(Not One Hotcoding):\", np.argmax(mnist.train.labels[index]))\n",
    "plt.show()"
   ]
  },
  {
   "cell_type": "code",
   "execution_count": 4,
   "metadata": {},
   "outputs": [],
   "source": [
    "# 신경망 구성 \n",
    "tf.reset_default_graph()\n",
    "# 입력층과 출력층 선언\n",
    "X = tf.placeholder(tf.float32, [None, 784], name=\"Input\") # 28*28 -> 학습데이터의 각 픽셀을 Feature로 삼는다 \n",
    "Y = tf.placeholder(tf.float32, [None, 10], name=\"Output\") # 최종출력 0 ~ 9, 총 10개의 결과로 분류하기 위한 노드\n",
    "\n",
    "# 입력층의 784개의 feature -> 첫번째 은닉층 256개로 전달하기 위한 가중치 \n",
    "W1 = tf.Variable(tf.random_normal([784, 256], stddev=0.01), name=\"Weight1\")\n",
    "L1 = tf.nn.relu(tf.matmul(X, W1), name=\"Activation1\") # L1 -> 입력 Feature * 가중치 -> 활성화함수(relu)\n",
    "# 첫번째 은닉층 256개로부터 두번째 은닉층 256개의 가중치 \n",
    "W2 = tf.Variable(tf.random_normal([256, 256], stddev=0.01, name=\"Weight2\"))\n",
    "L2 = tf.nn.relu(tf.matmul(L1, W2), name=\"Activation2\")\n",
    "# 두번째 은닉층 256개로부터 출력층 10개의 가중치 (활성화 함수는 생성안함)\n",
    "W3 = tf.Variable(tf.random_normal([256, 10], stddev=0.01, name=\"Weight3\"))\n",
    "# 모델 생성\n",
    "model = tf.matmul(L2, W3, name=\"model\")"
   ]
  },
  {
   "cell_type": "code",
   "execution_count": 5,
   "metadata": {},
   "outputs": [],
   "source": [
    "# cross entropy softmax를 이용하여 개별 이미지에 대한 손실값 계산 \n",
    "cost = tf.nn.softmax_cross_entropy_with_logits_v2(logits=model, labels=Y, name=\"CrossEntropy\")\n",
    "# 전체 평균 손실값\n",
    "cost = tf.reduce_mean(cost, name=\"CostFunction\")\n",
    "# 최적화 수행을 위한 옵티마이저 선택\n",
    "optimizer = tf.train.GradientDescentOptimizer(learning_rate=0.1).minimize(cost)\n",
    "# 변수 초기화를 위한 연산자\n",
    "init = tf.global_variables_initializer()"
   ]
  },
  {
   "cell_type": "code",
   "execution_count": 13,
   "metadata": {},
   "outputs": [
    {
     "name": "stdout",
     "output_type": "stream",
     "text": [
      "Epoch 1회의 평균 Cost:1.3991575729846955\n",
      "Epoch 2회의 평균 Cost:0.36666142925620077\n",
      "Epoch 3회의 평균 Cost:0.2391733275895769\n",
      "Epoch 4회의 평균 Cost:0.1724673710831187\n",
      "Epoch 5회의 평균 Cost:0.13533944500779563\n",
      "Epoch 6회의 평균 Cost:0.11243526735766367\n",
      "Epoch 7회의 평균 Cost:0.09498321047899398\n",
      "Epoch 8회의 평균 Cost:0.08055648320947181\n",
      "Epoch 9회의 평균 Cost:0.06997480616566132\n",
      "Epoch 10회의 평균 Cost:0.06112889766439118\n",
      "Epoch 11회의 평균 Cost:0.054099196014417844\n",
      "Epoch 12회의 평균 Cost:0.04703569940968671\n",
      "Epoch 13회의 평균 Cost:0.042217044216496025\n",
      "Epoch 14회의 평균 Cost:0.0367661287131804\n",
      "Epoch 15회의 평균 Cost:0.032552198956466535\n",
      "Epoch 16회의 평균 Cost:0.029173612551636655\n",
      "Epoch 17회의 평균 Cost:0.025331041163934226\n",
      "Epoch 18회의 평균 Cost:0.021329031738198615\n",
      "Epoch 19회의 평균 Cost:0.018810085758185862\n",
      "Epoch 20회의 평균 Cost:0.016876663350373168\n",
      "Epoch 21회의 평균 Cost:0.014516333825462921\n",
      "Epoch 22회의 평균 Cost:0.012854665442031215\n",
      "Epoch 23회의 평균 Cost:0.011267950906291265\n",
      "Epoch 24회의 평균 Cost:0.009983945320656693\n",
      "Epoch 25회의 평균 Cost:0.00883267485991713\n",
      "Epoch 26회의 평균 Cost:0.007508638970321045\n",
      "Epoch 27회의 평균 Cost:0.0064801214657596905\n",
      "Epoch 28회의 평균 Cost:0.005728998178806664\n",
      "Epoch 29회의 평균 Cost:0.004964959009084851\n",
      "Epoch 30회의 평균 Cost:0.00454453224776609\n",
      "최적화 완료\n",
      "정확도: 0.981\n"
     ]
    }
   ],
   "source": [
    "# 실제 연산의 수행 (Session 이용)\n",
    "sess = tf.Session()\n",
    "# Graph Writer \n",
    "tf.summary.FileWriter(\"d:/log_dir/mnist\", graph=sess.graph)\n",
    "# 변수 초기화\n",
    "sess.run(init)\n",
    "\n",
    "# 전체 학습 데이터를 나눠서 학습 : Mini Batch\n",
    "batch_size = 100\n",
    "total_batch = int(mnist.train.num_examples/batch_size)\n",
    "\n",
    "# 실제 30회 학습 실행\n",
    "for epoch in range(30): # 1 epoch : 전체 학습 데이터를 1회 학습\n",
    "    total_cost = 0\n",
    "    # 미니 배치 방식으로 전체 데이터를 학습\n",
    "    for i in range(total_batch):\n",
    "        # batch_size만큼 나누어서 학습 수행 \n",
    "        batch_xs, batch_ys = mnist.train.next_batch(batch_size)\n",
    "        \n",
    "        _, cost_val = sess.run([optimizer, cost], feed_dict={ X:batch_xs, Y:batch_ys})\n",
    "        total_cost += cost_val # 총 손실값을 인 \n",
    "        # 전체 데이터를 1회 학습 -> 1 Epoch\n",
    "    print(\"Epoch {}회의 평균 Cost:{}\".format(epoch+1, total_cost/total_batch))\n",
    "print(\"최적화 완료\")\n",
    "\n",
    "# 테스트 데이터를 그대로 입력하여 실제 결과와 평균을 비교 -> 정확도\n",
    "is_correct = tf.equal(tf.argmax(model, 1), tf.argmax(Y, 1))\n",
    "accuracy = tf.reduce_mean(tf.cast(is_correct, tf.float32))\n",
    "print(\"정확도:\", sess.run(accuracy, feed_dict={X:mnist.test.images, Y:mnist.test.labels}))\n",
    "#sess.close()"
   ]
  },
  {
   "cell_type": "code",
   "execution_count": 14,
   "metadata": {},
   "outputs": [
    {
     "name": "stdout",
     "output_type": "stream",
     "text": [
      "최종 가중치: [[-0.01886924 -0.00043292  0.008035   ... -0.0023424  -0.01758396\n",
      "   0.00075892]\n",
      " [ 0.00163976 -0.01324134 -0.00873544 ... -0.0116557  -0.01114943\n",
      "  -0.01146721]\n",
      " [ 0.00689166 -0.00613737  0.00663552 ...  0.01160388 -0.00012371\n",
      "  -0.02131127]\n",
      " ...\n",
      " [ 0.00454033 -0.00717956 -0.00313158 ...  0.03571213  0.00427296\n",
      "   0.00305915]\n",
      " [ 0.00405868 -0.00273472  0.01262459 ...  0.00243644  0.0035649\n",
      "  -0.00320921]\n",
      " [-0.00410749  0.00187666  0.01714718 ...  0.00979359  0.00801146\n",
      "  -0.00506221]]\n",
      "최종 가중치 2: [[-9.72712785e-03 -2.31786910e-03 -5.24193747e-03 ...  2.76176678e-03\n",
      "  -5.31910406e-03  1.16205756e-02]\n",
      " [ 4.10910472e-02 -7.88529683e-03 -2.28119548e-02 ... -2.24214401e-02\n",
      "  -4.64317612e-02 -7.03845592e-03]\n",
      " [ 8.78107175e-02  1.98990363e-03 -2.50811316e-03 ... -2.74244826e-02\n",
      "   3.58407460e-02  8.23788568e-02]\n",
      " ...\n",
      " [-2.69091614e-02  4.52331873e-03 -6.38239598e-03 ... -1.91424266e-02\n",
      "  -1.39630036e-02 -2.57297494e-02]\n",
      " [-2.49451362e-02  3.46843200e-03 -4.39117989e-03 ...  4.49667312e-02\n",
      "   3.99995549e-03 -1.77834928e-02]\n",
      " [-3.85537744e-03  1.25029217e-03  2.19415780e-03 ... -1.47947885e-05\n",
      "   1.13736885e-02  1.22405132e-02]]\n",
      "최종 가중치 3: [[ 0.17045648 -0.24072433 -0.00352598 ... -0.348068    0.1178231\n",
      "   0.0844781 ]\n",
      " [-0.01237006  0.00255807  0.03079806 ... -0.02381064 -0.02569279\n",
      "  -0.07766756]\n",
      " [-0.00874874 -0.01370993  0.00416096 ... -0.00187779  0.00167237\n",
      "   0.01069153]\n",
      " ...\n",
      " [-0.14403047 -0.05660605 -0.3986157  ... -0.14427865  0.23313062\n",
      "   0.37180033]\n",
      " [-0.11922872 -0.08442722 -0.07326841 ... -0.27931935  0.11668335\n",
      "  -0.06552393]\n",
      " [ 0.11167766 -0.19352491  0.00581989 ... -0.29365972  0.24455863\n",
      "  -0.07348121]]\n"
     ]
    }
   ],
   "source": [
    "print(\"최종 가중치:\", sess.run(W1))\n",
    "print(\"최종 가중치 2:\", sess.run(W2))\n",
    "print(\"최종 가중치 3:\", sess.run(W3))"
   ]
  },
  {
   "cell_type": "code",
   "execution_count": 19,
   "metadata": {},
   "outputs": [
    {
     "data": {
      "image/png": "[encoded data removed]",
      "text/plain": [
       "<Figure size 432x288 with 10 Axes>"
      ]
     },
     "metadata": {},
     "output_type": "display_data"
    }
   ],
   "source": [
    "# 총 10개의 test 데이터를 확인해보고(model로)\n",
    "# test 라벨과 매칭(확인)해 봅시다.\n",
    "lables = sess.run(model, feed_dict={X:mnist.test.images, Y:mnist.test.labels})\n",
    "\n",
    "# 2 * 5의 차트 만들기\n",
    "fig = plt.figure()\n",
    "for i in range(10): # 0 ~9 번 인덱스까지\n",
    "    subplot = fig.add_subplot(2, 5, i +1)\n",
    "    subplot.imshow(mnist.test.images[i].reshape(28, 28))\n",
    "    subplot.set_xticks([])\n",
    "    subplot.set_yticks([])\n",
    "    subplot.set_title(\"%d\" % np.argmax(mnist.test.labels[i]))"
   ]
  }
 ],
 "metadata": {
  "kernelspec": {
   "display_name": "Python 3",
   "language": "python",
   "name": "python3"
  },
  "language_info": {
   "codemirror_mode": {
    "name": "ipython",
    "version": 3
   },
   "file_extension": ".py",
   "mimetype": "text/x-python",
   "name": "python",
   "nbconvert_exporter": "python",
   "pygments_lexer": "ipython3",
   "version": "3.7.4"
  }
 },
 "nbformat": 4,
 "nbformat_minor": 2
}
