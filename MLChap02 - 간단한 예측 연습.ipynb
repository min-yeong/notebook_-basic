{
 "cells": [
  {
   "cell_type": "code",
   "execution_count": 13,
   "metadata": {},
   "outputs": [],
   "source": [
    "# 1km 당 몇 mile인지 알고 있다\n",
    "mile_per_km=0.62137\n",
    "\n",
    "def predict_mile(c, km): # c:상수, km:km\n",
    "    # 넘어온 km을 c를 이용해서 mile을 예측하는 함수\n",
    "    print(\"mile 예상 : 가중치 {}, 예측치 {}\".format(c, c*km))\n",
    "    return c * km\n",
    "\n",
    "def get_real_mile(km):\n",
    "    # 공식을 이용해서 실제 마일 계산 함수\n",
    "    return mile_per_km * km\n",
    "\n",
    "def get_error(predict, target):\n",
    "    # predict:예측치, target:목표치(실제값)\n",
    "    error = target-predict\n",
    "    print(\"예측치 {}, 목표치 {}, 오차 {}\".format(predict, target,error))"
   ]
  },
  {
   "cell_type": "code",
   "execution_count": 22,
   "metadata": {},
   "outputs": [
    {
     "name": "stdout",
     "output_type": "stream",
     "text": [
      "mile 예상 : 가중치 0.5, 예측치 50.0\n",
      "예측치 50.0, 목표치 62.137, 오차 12.137\n"
     ]
    }
   ],
   "source": [
    "# mile = c * km\n",
    "# y = wx + b\n",
    "# 상수 c를 임의의 값으로 세팅 \n",
    "weight = 0.5 # 임의의 가중치\n",
    "km = 100 # 측정하고자하는 feature\n",
    "y =get_real_mile(km) # 목표치\n",
    "y_ = predict_mile(weight, km) # 예측치\n",
    "e = get_error(y_, y) # 실제값과 예측치의 차이 "
   ]
  },
  {
   "cell_type": "code",
   "execution_count": 23,
   "metadata": {},
   "outputs": [
    {
     "name": "stdout",
     "output_type": "stream",
     "text": [
      "mile 예상 : 가중치 0.6, 예측치 60.0\n",
      "예측치 60.0, 목표치 62.137, 오차 2.1370000000000005\n"
     ]
    }
   ],
   "source": [
    "# 가중치 갱신\n",
    "weight = 0.6 # 0.1만큼 가중치를 갱신 \n",
    "y_ = predict_mile(weight, km)\n",
    "e = get_error(y_, y)\n",
    "# 가중치의 갱신으로 오차 감소"
   ]
  },
  {
   "cell_type": "code",
   "execution_count": 24,
   "metadata": {},
   "outputs": [
    {
     "name": "stdout",
     "output_type": "stream",
     "text": [
      "mile 예상 : 가중치 0.7, 예측치 70.0\n",
      "예측치 70.0, 목표치 62.137, 오차 -7.8629999999999995\n"
     ]
    }
   ],
   "source": [
    "# 이차 가중치 갱신\n",
    "weight = 0.7\n",
    "y_ = predict_mile(weight, km)\n",
    "e = get_error(y_, y)\n",
    "# 원하는 목표치보다 커짐, 오차가 음수 -> Over Shooting "
   ]
  },
  {
   "cell_type": "code",
   "execution_count": 25,
   "metadata": {},
   "outputs": [
    {
     "name": "stdout",
     "output_type": "stream",
     "text": [
      "mile 예상 : 가중치 0.61, 예측치 61.0\n",
      "예측치 61.0, 목표치 62.137, 오차 1.1370000000000005\n"
     ]
    }
   ],
   "source": [
    "# 삼차 가중치 변경\n",
    "weight = 0.61 \n",
    "y_ = predict_mile(weight, km)\n",
    "e = get_error(y_, y)\n",
    "\n",
    "# 머신러닝 : 이 방식으로 가중치와 편차를 조금씩 변경하면서 오차를 수정 -> 최종 공식을 확인해 가는 과정"
   ]
  }
 ],
 "metadata": {
  "kernelspec": {
   "display_name": "Python 3",
   "language": "python",
   "name": "python3"
  },
  "language_info": {
   "codemirror_mode": {
    "name": "ipython",
    "version": 3
   },
   "file_extension": ".py",
   "mimetype": "text/x-python",
   "name": "python",
   "nbconvert_exporter": "python",
   "pygments_lexer": "ipython3",
   "version": "3.7.4"
  }
 },
 "nbformat": 4,
 "nbformat_minor": 2
}
