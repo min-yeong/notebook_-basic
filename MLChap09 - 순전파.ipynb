{
 "cells": [
  {
   "cell_type": "code",
   "execution_count": 8,
   "metadata": {},
   "outputs": [],
   "source": [
    "# 3계층 신경망에서 신호의 전달 방법\n",
    "import numpy as np\n",
    "\n",
    "def sigmoid_function(x):\n",
    "    return 1 / (1+np.exp(-x))"
   ]
  },
  {
   "cell_type": "code",
   "execution_count": 9,
   "metadata": {},
   "outputs": [
    {
     "name": "stdout",
     "output_type": "stream",
     "text": [
      "입력:\n",
      " [0.9 0.1 0.8]\n",
      "가중치 (입력층 -> 은닉층):\n",
      " [[0.9 0.3 0.4]\n",
      " [0.2 0.8 0.2]\n",
      " [0.1 0.5 0.6]]\n",
      "가중치 (은닉층 -> 출력층):\n",
      " [[0.3 0.7 0.5]\n",
      " [0.6 0.5 0.2]\n",
      " [0.8 0.1 0.9]]\n"
     ]
    }
   ],
   "source": [
    "# 입력 -> 은닉 -> 출력 순전파 \n",
    "# 입력\n",
    "I = np.array([0.9, 0.1, 0.8])\n",
    "print(\"입력:\\n\", I)\n",
    "# 입력층 -> 은닉층으로 신호 전달을 위해 가중치 행렬 \n",
    "W_i_h = np.array([\n",
    "    [0.9, 0.3, 0.4], # 은닉층 1번 노드로 전달되는 가중치 \n",
    "    [0.2, 0.8, 0.2],\n",
    "    [0.1, 0.5, 0.6]\n",
    "])\n",
    "print(\"가중치 (입력층 -> 은닉층):\\n\", W_i_h)\n",
    "# 은닉층 -> 출력층 신호 전달을 위한 가중치\n",
    "W_h_o = np.array([\n",
    "    [0.3, 0.7, 0.5],\n",
    "    [0.6, 0.5, 0.2],\n",
    "    [0.8, 0.1, 0.9]\n",
    "])\n",
    "print(\"가중치 (은닉층 -> 출력층):\\n\", W_h_o)"
   ]
  },
  {
   "cell_type": "code",
   "execution_count": 10,
   "metadata": {},
   "outputs": [
    {
     "name": "stdout",
     "output_type": "stream",
     "text": [
      "X hidden:\n",
      " [1.16 0.42 0.62]\n"
     ]
    }
   ],
   "source": [
    "# 입력층의 입력에 입력층의 가중치를 곱해서 합한 값  -> 은닉계층의 입력값\n",
    "X_h = np.dot(W_i_h, I) # 내적곱\n",
    "print(\"X hidden:\\n\", X_h)"
   ]
  },
  {
   "cell_type": "code",
   "execution_count": 11,
   "metadata": {},
   "outputs": [
    {
     "name": "stdout",
     "output_type": "stream",
     "text": [
      "hidden 레이어의 출력:\n",
      " [0.76133271 0.60348325 0.65021855]\n"
     ]
    }
   ],
   "source": [
    "# 은닉계층의 출력값 : 활성화 함수를 적용, 다음레이어의 입력값으로 전달\n",
    "O_h = sigmoid_function(X_h)\n",
    "print(\"hidden 레이어의 출력:\\n\", O_h)"
   ]
  },
  {
   "cell_type": "code",
   "execution_count": 12,
   "metadata": {},
   "outputs": [
    {
     "name": "stdout",
     "output_type": "stream",
     "text": [
      "출력 계층의 입력값:\n",
      " [0.97594736 0.88858496 1.25461119]\n"
     ]
    }
   ],
   "source": [
    "# 출력레이어 \n",
    "X_o = np.dot(W_h_o, O_h) # 이전 레이어 출력값을 입력으로 점곱\n",
    "print(\"출력 계층의 입력값:\\n\", X_o)"
   ]
  },
  {
   "cell_type": "code",
   "execution_count": 14,
   "metadata": {},
   "outputs": [
    {
     "name": "stdout",
     "output_type": "stream",
     "text": [
      "최종 출력: [0.72630335 0.70859807 0.77809706]\n"
     ]
    }
   ],
   "source": [
    "# 출력계층의 활성화 함수 적용\n",
    "O_o = sigmoid_function(X_o)\n",
    "print(\"최종 출력:\", O_o)"
   ]
  }
 ],
 "metadata": {
  "kernelspec": {
   "display_name": "Python 3",
   "language": "python",
   "name": "python3"
  },
  "language_info": {
   "codemirror_mode": {
    "name": "ipython",
    "version": 3
   },
   "file_extension": ".py",
   "mimetype": "text/x-python",
   "name": "python",
   "nbconvert_exporter": "python",
   "pygments_lexer": "ipython3",
   "version": "3.7.4"
  }
 },
 "nbformat": 4,
 "nbformat_minor": 2
}
