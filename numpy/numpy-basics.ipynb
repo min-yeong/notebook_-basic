{
 "cells": [
  {
   "cell_type": "markdown",
   "metadata": {},
   "source": [
    "## Introducing Numpy\n",
    "\n",
    "### numpy 배열\n",
    "\n",
    "- numpy는 과학계산을 수행하는 파이썬 핵심 패키지\n",
    "- 주요 제공 기능\n",
    "    - N 차원 배열\n",
    "    - 원소별 연산(브로드캐스팅)\n",
    "    - 선형대수학 등 핵심 수학 연산\n",
    "    - C/C++, 포트란 코드 인터페이스 제공\n",
    "    \n",
    "- numpy 공식 레퍼런스\n",
    "    - https://docs.scipy.org/doc/numpy/reference/\n",
    "    \n",
    "### Python list vs numpy 배열\n",
    "\n",
    "- Python의 리스트는 거의 모든 종류의 객체를 담을 수 있어 유연하지만, 속도와 메모리 효율이 좋지 않다는 것이 단점\n",
    "- numpy의 배열은 한 행에 동일 형식의 원소를 저장\n",
    "    - Python의 리스트에 비해 유연성은 떨어지지만\n",
    "    - 빠른 연산과 메모리 효율에서 강점을 보인다\n",
    "    \n",
    "### numpy의 사용\n",
    "\n",
    "- 일반적으로 numpy는 np라는 별칭으로 줄여 임포트한다"
   ]
  },
  {
   "cell_type": "code",
   "execution_count": 1,
   "metadata": {},
   "outputs": [],
   "source": [
    "# numpy를 np 별칭으로 임포트 해 봅시다\n",
    "import numpy as np"
   ]
  },
  {
   "cell_type": "markdown",
   "metadata": {},
   "source": [
    "### numpy 배열 만들기\n",
    "\n",
    "- Python의 리스트를 이용한 생성\n",
    "    - 각 값들은 (양의 정수)튜플 형태로 인덱싱됨\n",
    "    - shape는 각 차원의 크기를 튜플로 반환\n",
    "    - np.ndim는 배열이 몇 차원인지 의미\n",
    "    - 다차원 배열을 만들기 위해서는 리스트를 중첩하여 생성"
   ]
  },
  {
   "cell_type": "code",
   "execution_count": 4,
   "metadata": {
    "scrolled": true
   },
   "outputs": [
    {
     "name": "stdout",
     "output_type": "stream",
     "text": [
      "type of arr: <class 'numpy.ndarray'>\n",
      "shape of arr: (3,)\n",
      "rank of arr: 1\n"
     ]
    }
   ],
   "source": [
    "# Python의 리스트를 이용한 생성 방법 연습\n",
    "# 일차원 배열 : np.array\n",
    "arr = np.array([1, 2, 3])\n",
    "print(\"type of arr:\", type(arr)) # ndarray\n",
    "print(\"shape of arr:\", arr.shape) # 튜플로 반환\n",
    "print(\"rank of arr:\", np.ndim(arr)) # 배열의 차원"
   ]
  },
  {
   "cell_type": "code",
   "execution_count": 6,
   "metadata": {},
   "outputs": [
    {
     "name": "stdout",
     "output_type": "stream",
     "text": [
      "[[1 2 3]\n",
      " [4 5 6]\n",
      " [7 8 9]]\n",
      "type of arr2d: <class 'numpy.ndarray'>\n",
      "shape of arr2d: (3, 3)\n",
      "rank of arr2d: 2\n"
     ]
    }
   ],
   "source": [
    "# 2차원 배열 : 리스트를 중첩하여 데이터 전달\n",
    "arr2d = np.array([\n",
    "    [1, 2, 3],\n",
    "    [4, 5, 6],\n",
    "    [7, 8, 9]\n",
    "])\n",
    "print(arr2d)\n",
    "print(\"type of arr2d:\", type(arr2d))\n",
    "print(\"shape of arr2d:\", arr2d.shape)\n",
    "print(\"rank of arr2d:\", np.ndim(arr2d)) "
   ]
  },
  {
   "cell_type": "markdown",
   "metadata": {},
   "source": [
    "- List 없이 array 만들기\n",
    "    - zeros() : 0으로 채워진 배열\n",
    "    - ones() : 1로 채워진 배열\n",
    "    - full() : 지정한 상수로 채워진 배열\n",
    "    - eye() : 단위 행렬 생성\n",
    "    - empty_like() : 주어진 배열과 동일한 shape를 가지며 비어 있는 배열 생성"
   ]
  },
  {
   "cell_type": "code",
   "execution_count": 10,
   "metadata": {},
   "outputs": [
    {
     "name": "stdout",
     "output_type": "stream",
     "text": [
      "2*2 영배열: [[0. 0.]\n",
      " [0. 0.]]\n",
      "2*2 1로 채워진 배열: [[1. 1.]\n",
      " [1. 1.]]\n",
      "2*2 7로 채워진 배열: [[7 7]\n",
      " [7 7]]\n",
      "2*2의 단위행렬: [[1. 0.]\n",
      " [0. 1.]]\n"
     ]
    }
   ],
   "source": [
    "# array를 만드는 다양한 방법을 알아봅시다\n",
    "# 2행 2열의 영배열\n",
    "arr_zero = np.zeros((2, 2)) \n",
    "print(\"2*2 영배열:\", arr_zero)\n",
    "#  2행 2열의 1로 채워진 배열\n",
    "arr_one = np.ones((2, 2))\n",
    "print(\"2*2 1로 채워진 배열:\", arr_one)\n",
    "# 2행 2열의 7로 채워진 배열\n",
    "arr_full = np.full((2, 2), 7)\n",
    "print(\"2*2 7로 채워진 배열:\", arr_full)\n",
    "# 2행 2열의 단위 행렬 : eye\n",
    "arr_eye = np.eye(2) \n",
    "print(\"2*2의 단위행렬:\",arr_eye)"
   ]
  },
  {
   "cell_type": "markdown",
   "metadata": {},
   "source": [
    "- 범위 벡터의 생성\n",
    "    - arange() : 범위 값으로 배열 만들기\n",
    "    - linspace() : 선형 간격의 벡터 만들기\n",
    "    - logspace() : 로그 간격의 벡터 만들기"
   ]
  },
  {
   "cell_type": "code",
   "execution_count": 17,
   "metadata": {
    "scrolled": false
   },
   "outputs": [
    {
     "name": "stdout",
     "output_type": "stream",
     "text": [
      "[ 0  1  2  3  4  5  6  7  8  9 10 11 12 13 14 15 16 17 18 19 20 21 22 23\n",
      " 24 25 26 27 28 29 30 31 32 33 34 35 36 37 38 39 40 41 42 43 44 45 46 47\n",
      " 48 49 50 51 52 53 54 55 56 57 58 59 60 61 62 63 64 65 66 67 68 69 70 71\n",
      " 72 73 74 75 76 77 78 79 80 81 82 83 84 85 86 87 88 89 90 91 92 93 94 95\n",
      " 96 97 98 99]\n",
      "[0.         0.01010101 0.02020202 0.03030303 0.04040404 0.05050505\n",
      " 0.06060606 0.07070707 0.08080808 0.09090909 0.1010101  0.11111111\n",
      " 0.12121212 0.13131313 0.14141414 0.15151515 0.16161616 0.17171717\n",
      " 0.18181818 0.19191919 0.2020202  0.21212121 0.22222222 0.23232323\n",
      " 0.24242424 0.25252525 0.26262626 0.27272727 0.28282828 0.29292929\n",
      " 0.3030303  0.31313131 0.32323232 0.33333333 0.34343434 0.35353535\n",
      " 0.36363636 0.37373737 0.38383838 0.39393939 0.4040404  0.41414141\n",
      " 0.42424242 0.43434343 0.44444444 0.45454545 0.46464646 0.47474747\n",
      " 0.48484848 0.49494949 0.50505051 0.51515152 0.52525253 0.53535354\n",
      " 0.54545455 0.55555556 0.56565657 0.57575758 0.58585859 0.5959596\n",
      " 0.60606061 0.61616162 0.62626263 0.63636364 0.64646465 0.65656566\n",
      " 0.66666667 0.67676768 0.68686869 0.6969697  0.70707071 0.71717172\n",
      " 0.72727273 0.73737374 0.74747475 0.75757576 0.76767677 0.77777778\n",
      " 0.78787879 0.7979798  0.80808081 0.81818182 0.82828283 0.83838384\n",
      " 0.84848485 0.85858586 0.86868687 0.87878788 0.88888889 0.8989899\n",
      " 0.90909091 0.91919192 0.92929293 0.93939394 0.94949495 0.95959596\n",
      " 0.96969697 0.97979798 0.98989899 1.        ]\n",
      "[ 1.          1.02353102  1.04761575  1.07226722  1.09749877  1.12332403\n",
      "  1.149757    1.17681195  1.20450354  1.23284674  1.26185688  1.29154967\n",
      "  1.32194115  1.35304777  1.38488637  1.41747416  1.45082878  1.48496826\n",
      "  1.51991108  1.55567614  1.59228279  1.62975083  1.66810054  1.70735265\n",
      "  1.7475284   1.78864953  1.83073828  1.87381742  1.91791026  1.96304065\n",
      "  2.009233    2.05651231  2.10490414  2.15443469  2.20513074  2.25701972\n",
      "  2.3101297   2.36448941  2.42012826  2.47707636  2.53536449  2.59502421\n",
      "  2.65608778  2.71858824  2.7825594   2.84803587  2.91505306  2.98364724\n",
      "  3.05385551  3.12571585  3.19926714  3.27454916  3.35160265  3.43046929\n",
      "  3.51119173  3.59381366  3.67837977  3.76493581  3.85352859  3.94420606\n",
      "  4.03701726  4.1320124   4.22924287  4.32876128  4.43062146  4.53487851\n",
      "  4.64158883  4.75081016  4.86260158  4.97702356  5.09413801  5.21400829\n",
      "  5.33669923  5.46227722  5.59081018  5.72236766  5.85702082  5.9948425\n",
      "  6.13590727  6.28029144  6.42807312  6.57933225  6.73415066  6.8926121\n",
      "  7.05480231  7.22080902  7.39072203  7.56463328  7.74263683  7.92482898\n",
      "  8.11130831  8.30217568  8.49753436  8.69749003  8.90215085  9.11162756\n",
      "  9.32603347  9.54548457  9.77009957 10.        ]\n"
     ]
    }
   ],
   "source": [
    "# 범위 벡터를 만들기 연습\n",
    "arr_range = np.arange(100) # 0부터 99까지의 범위 벡터\n",
    "print(arr_range)\n",
    "arr_linspace = np.linspace(0, 1, 100) # 0부터 1까지를 100개로 선형 분할(간격 동일) \n",
    "print(arr_linspace)\n",
    "arr_logspace = np.logspace(0, 1, 100, base=10.0) # 0 ~ 1까지를 100개로 지수함수 이용 분할 밑수가 10\n",
    "print(arr_logspace)"
   ]
  },
  {
   "cell_type": "markdown",
   "metadata": {},
   "source": [
    "### array의 타입\n",
    "\n",
    "- numpy의 array는 한 가지 타입만 담을 수 있다\n",
    "    - 데이터 타입을 지정하지 않으면 임의로 적절한 데이터 타입을 선택\n",
    "    - dtype으로 array의 타입을 체크할 수 있다\n",
    "    - array 생성시 dtype 옵션 파라미터로 데이터 타입을 강제할 수 있다\n",
    "    - astype() 메서드를 이용하면 다른 데이터타입으로 변경할 수 있다\n",
    "    \n",
    "- numpy 자료형 참조 페이지 : https://docs.scipy.org/doc/numpy/reference/arrays.dtypes.html"
   ]
  },
  {
   "cell_type": "code",
   "execution_count": 21,
   "metadata": {
    "scrolled": true
   },
   "outputs": [
    {
     "name": "stdout",
     "output_type": "stream",
     "text": [
      "[1. 1.]\n",
      "dtype of arr: float64\n",
      "dtype of arr2: int32\n",
      "dtype of arr3: float64\n"
     ]
    }
   ],
   "source": [
    "# array의 타입 체크, 변경을 연습해 봅니다.\n",
    "arr = np.ones(2) # 1로 채워진 1차원 배열\n",
    "print(arr)\n",
    "# 배열의 타입 확인\n",
    "print(\"dtype of arr:\", arr.dtype)\n",
    "\n",
    "# 배열 생성시 타입을 강제할 수 있다\n",
    "arr2 = np.ones(2, dtype=int) # 배열 데이터 타입을 int로 강제\n",
    "print(\"dtype of arr2:\", arr2.dtype)\n",
    "# astype으로 타입 변경 가능\n",
    "arr3 = arr2.astype(np.float64)\n",
    "print(\"dtype of arr3:\", arr3.dtype)"
   ]
  },
  {
   "cell_type": "markdown",
   "metadata": {},
   "source": [
    "### array의 재구성\n",
    "\n",
    "- 생성된 array는 다양한 형태로 변경될 수 있다\n",
    "    - reshape() : 배열을 다른 형태로 변경\n",
    "    - ravel() : 다차원 배열을 1차원 형태로 변경\n",
    "    - transpose() : 행렬의 전치. 열 <-> 행\n",
    "        - 간단히 T 속성을 사용해도 무방"
   ]
  },
  {
   "cell_type": "code",
   "execution_count": 29,
   "metadata": {},
   "outputs": [
    {
     "name": "stdout",
     "output_type": "stream",
     "text": [
      "[[ 0  1  2  3  4]\n",
      " [ 5  6  7  8  9]\n",
      " [10 11 12 13 14]\n",
      " [15 16 17 18 19]\n",
      " [20 21 22 23 24]]\n",
      "전치 행렬:\n",
      " [[ 0  5 10 15 20]\n",
      " [ 1  6 11 16 21]\n",
      " [ 2  7 12 17 22]\n",
      " [ 3  8 13 18 23]\n",
      " [ 4  9 14 19 24]]\n",
      "[[ 0  5 10 15 20]\n",
      " [ 1  6 11 16 21]\n",
      " [ 2  7 12 17 22]\n",
      " [ 3  8 13 18 23]\n",
      " [ 4  9 14 19 24]]\n"
     ]
    }
   ],
   "source": [
    "# array 재구성 연습\n",
    "arr1d = np.arange(25)\n",
    "arr1d\n",
    "# 배열의 형태 변경 reshape -> 5 * 5 배열로\n",
    "arr2d = arr1d.reshape(5, 5)\n",
    "arr2d\n",
    "\n",
    "# arr1d가 25개의 요소 -> 4 * 4 * 4 배열로 변경할 경우\n",
    "#arr3d = arr1d.reshape(4, 4, 4)\n",
    "#arr3d -> ValueError : 요소가 부족함 \n",
    "\n",
    "# 다차원 배열을 1차원 배열로 변경 \n",
    "flatten = arr2d.ravel()\n",
    "flatten\n",
    "\n",
    "# 행렬의 전치 : tanspose, T 속성\n",
    "print(arr2d)\n",
    "print(\"전치 행렬:\\n\", arr2d.transpose())\n",
    "print(arr2d.T) # T속성으로 전치 가능 "
   ]
  },
  {
   "cell_type": "markdown",
   "metadata": {},
   "source": [
    "### array의 인덱싱과 슬라이싱\n",
    "\n",
    "- numpy의 array 인덱싱과 슬라이싱은 기본적으로는 파이썬의 인덱싱/슬라이싱 방식과 거의 동일하다\n",
    "- numpy의 array는 다차원인 경우가 많기 때문에 각 차원별 인덱스/슬라이스 범위를 잘 정해주어야 한다"
   ]
  },
  {
   "cell_type": "code",
   "execution_count": 35,
   "metadata": {
    "scrolled": true
   },
   "outputs": [
    {
     "name": "stdout",
     "output_type": "stream",
     "text": [
      "[[ 1  2  3]\n",
      " [ 4  5  6]\n",
      " [ 7  8  9]\n",
      " [10 11 12]]\n"
     ]
    },
    {
     "data": {
      "text/plain": [
       "array([10, 11, 12])"
      ]
     },
     "execution_count": 35,
     "metadata": {},
     "output_type": "execute_result"
    }
   ],
   "source": [
    "# array의 인덱싱\n",
    "arr = np.arange(1, 13).reshape(4, 3)\n",
    "print(arr)\n",
    "# 2차원 배열 : 행, 열의 순서로 인덱싱\n",
    "arr[0, 1] # 0행 1열 \n",
    "\n",
    "# array의 슬라이싱 : 행범위, 열범위\n",
    "# 가장 첫번째 행 전체를 반환\n",
    "arr[0, :]\n",
    "# 역인덱싱 \n",
    "# 가장 마지막 행의 전체를 반환\n",
    "arr[-1, :]"
   ]
  },
  {
   "cell_type": "markdown",
   "metadata": {},
   "source": [
    "### 조건적 인덱싱\n",
    "\n",
    "- where() : 조건에 해당하는 인덱스를 추출\n",
    "- delete() : 특정 인덱스 삭제"
   ]
  },
  {
   "cell_type": "code",
   "execution_count": 40,
   "metadata": {},
   "outputs": [
    {
     "data": {
      "text/plain": [
       "array([ 5,  6,  7,  8,  9, 10, 11, 12, 13, 14, 15, 16])"
      ]
     },
     "execution_count": 40,
     "metadata": {},
     "output_type": "execute_result"
    }
   ],
   "source": [
    "# 조건적 인덱싱 연습\n",
    "arr = np.arange(1, 17).reshape(4, 4) # 4 * 4, 1~16까지 채워진 배열\n",
    "arr\n",
    "# 배열 내부 요소가 10보다 큰 요소 확인\n",
    "arr > 10 \n",
    "\n",
    "# 요소 값이 10보다 큰 요소의 인덱스 확인\n",
    "indexes = np.where(arr>10)\n",
    "indexes\n",
    "# 이 인덱스를 기반으로 새 배열 만들기 \n",
    "newArr = arr[indexes]\n",
    "newArr\n",
    "# 특정 인덱스의 요소 삭제 delete\n",
    "newArr2 = np.delete(arr, indexes)\n",
    "newArr2"
   ]
  },
  {
   "cell_type": "markdown",
   "metadata": {},
   "source": [
    "### Boolean 배열 인덱싱\n",
    "\n",
    "- 논리 연산을 수행하여 복수의 조건을 만족하는 인덱스를 추출해내는 방법\n",
    "- numpy 배열 불린 연산에서는 &(and), |(or), ~(not) 연산자를 사용할 수 있다\n",
    "\n",
    "- Boolean 배열 인덱싱 참조 : https://docs.scipy.org/doc/numpy/reference/arrays.indexing.html"
   ]
  },
  {
   "cell_type": "code",
   "execution_count": 50,
   "metadata": {
    "scrolled": true
   },
   "outputs": [
    {
     "data": {
      "text/plain": [
       "array([ 1,  2,  4,  5,  7,  8, 10, 11, 13, 14, 16])"
      ]
     },
     "execution_count": 50,
     "metadata": {},
     "output_type": "execute_result"
    }
   ],
   "source": [
    "# Boolean 배열 인덱싱을 연습해 봅시다.\n",
    "source  = np.arange(1, 17).reshape(4, 4)\n",
    "source\n",
    "\n",
    "copy = source.copy() # 복제본 생성\n",
    "# copy의 값이 3보다 큰 요소를 추출\n",
    "index_gt_3 = copy > 3\n",
    "index_gt_3\n",
    "# copy의 값이 3보다 작은 요소를 추출\n",
    "index_lt_3 = copy < 3\n",
    "index_lt_3\n",
    "\n",
    "# 비교 연산을 이용한 boolean값을 인덱스 범위로 지정하면 해당 논리값이 True인 요소만 반환 받을 수 있다\n",
    "copy[index_gt_3]\n",
    "# 추출 조건이 복잡하면 논리연산자 &(AND), |(OR), ~(NOT)로 조합할 수 있다\n",
    "# copy값이 3보다 크고 7보다 작은 요소의 추출\n",
    "index_comp = (copy > 3) & (copy < 7)\n",
    "index_comp\n",
    "arr[index_comp]\n",
    "\n",
    "# copy의 요소 중 3의 배수가 아닌 요소만 추출\n",
    "index_mod = copy % 3 == 0\n",
    "index_mod\n",
    "copy[index_mod] # 요소가 3의배수인 것을 추출\n",
    "copy[~index_mod]"
   ]
  },
  {
   "cell_type": "markdown",
   "metadata": {},
   "source": [
    "### 배열 연산\n",
    "\n",
    "- 기본적 수학 함수는 배열의 각 요소별로 동작\n",
    "- 연산자를 이용 동작하거나 numpy 함수 모듈을 이용하여 동작함"
   ]
  },
  {
   "cell_type": "code",
   "execution_count": 54,
   "metadata": {
    "scrolled": false
   },
   "outputs": [
    {
     "name": "stdout",
     "output_type": "stream",
     "text": [
      "x: [[1 2]\n",
      " [3 4]]\n",
      "y: [[5 6]\n",
      " [7 8]]\n",
      "[[ 5 12]\n",
      " [21 32]]\n",
      "[[ 5 12]\n",
      " [21 32]]\n"
     ]
    }
   ],
   "source": [
    "# 배열 연산을 연습해 봅니다.\n",
    "x = np.arange(1, 5).reshape(2, 2)\n",
    "y = np.arange(5, 9).reshape(2, 2)\n",
    "print(\"x:\", x)\n",
    "print(\"y:\", y)\n",
    "\n",
    "# 연산자 +, -, *, /\n",
    "# 넘파이의 함수들 add, subtract, multiply, divide\n",
    "\n",
    "# 요소별 곱 \n",
    "print(x * y)\n",
    "print(np.multiply(x, y)) # 넘파이함수를 이용한 요소의 곱"
   ]
  },
  {
   "cell_type": "markdown",
   "metadata": {},
   "source": [
    "### numpy 행렬 곱\n",
    "\n",
    "- *, multiply는 기본적으로 요소의 곱\n",
    "- 벡터의 내적, 벡터와 행렬의 곱, 행렬곱을 위해서는 dot 함수 사용\n",
    "- dot 메서드는 모듈 함수, 배열 객체의 인스턴스 양쪽 모두 사용 가능"
   ]
  },
  {
   "cell_type": "code",
   "execution_count": 61,
   "metadata": {
    "scrolled": false
   },
   "outputs": [
    {
     "name": "stdout",
     "output_type": "stream",
     "text": [
      "219\n",
      "219\n",
      "x: [[1 2]\n",
      " [3 4]]\n",
      "v1: [ 9 10]\n",
      "x dot v1: [29 67]\n",
      "y: [[5 6]\n",
      " [7 8]]\n",
      "x dot y: [[19 22]\n",
      " [43 50]]\n"
     ]
    }
   ],
   "source": [
    "# numpy 행렬 곱 연습\n",
    "v1 = np.array([9, 10]) # 행렬\n",
    "v2 = np.array([11, 12]) # 행렬\n",
    "\n",
    "# 벡터의 내적\n",
    "print(v1.dot(v2)) # 인스턴스 메서드\n",
    "print(np.dot(v1, v2))\n",
    "\n",
    "# 행렬과 벡터의 내적\n",
    "x = np.arange(1, 5).reshape(2, 2)\n",
    "print(\"x:\", x)\n",
    "# 행렬 x와 벡터 v1의 내적\n",
    "print(\"v1:\", v1)\n",
    "print(\"x dot v1:\", x.dot(v1))\n",
    "# 행렬과 행렬의 내적\n",
    "y = np.arange(5, 9).reshape(2, 2)\n",
    "print(\"y:\", y)\n",
    "print(\"x dot y:\", np.dot(x, y))"
   ]
  },
  {
   "cell_type": "markdown",
   "metadata": {},
   "source": [
    "### array 연산 함수\n",
    "\n",
    "- numpy는 배열 연산에 유용하게 사용되는 많은 함수를 제공\n",
    "- 배열 연산 함수 참조 : https://docs.scipy.org/doc/numpy/reference/routines.math.html"
   ]
  },
  {
   "cell_type": "code",
   "execution_count": 66,
   "metadata": {
    "scrolled": true
   },
   "outputs": [
    {
     "name": "stdout",
     "output_type": "stream",
     "text": [
      "[[ 1  2  3]\n",
      " [ 4  5  6]\n",
      " [ 7  8  9]\n",
      " [10 11 12]]\n",
      "sum of x: 78\n",
      "sum of x의 열: [22 26 30]\n",
      "sum of x의 행: [ 6 15 24 33]\n"
     ]
    }
   ],
   "source": [
    "# array 연산 함수 중, sum 함수를 활용해 봅니다\n",
    "x = np.arange(1, 13).reshape(4, 3)\n",
    "print(x)\n",
    "\n",
    "# 모든 요소의 합산 값\n",
    "print(\"sum of x:\", np.sum(x))\n",
    "# 특정 축 방향으로 합산 수행 : axis 0(열), 1(행), 2(면), 3, 4, 5\n",
    "print(\"sum of x의 열:\", np.sum(x, axis=0))\n",
    "print(\"sum of x의 행:\", np.sum(x, axis=1))"
   ]
  },
  {
   "cell_type": "markdown",
   "metadata": {},
   "source": [
    "### 브로드캐스팅\n",
    "\n",
    "- numpy에서 shape가 다른 배열 혹은 배열과 스칼라 사이의 산술 연산이 가능하도록 하는 매커니즘\n",
    "- Universal Function이라고도 함"
   ]
  },
  {
   "cell_type": "code",
   "execution_count": 70,
   "metadata": {
    "scrolled": true
   },
   "outputs": [
    {
     "name": "stdout",
     "output_type": "stream",
     "text": [
      "[[ 0  1  2  3]\n",
      " [ 4  5  6  7]\n",
      " [ 8  9 10 11]]\n",
      "[[ 2  3  4  5]\n",
      " [ 6  7  8  9]\n",
      " [10 11 12 13]]\n",
      "[[ 1  3  5  7]\n",
      " [ 5  7  9 11]\n",
      " [ 9 11 13 15]]\n"
     ]
    }
   ],
   "source": [
    "# 브로드캐스팅을 연습해 봅니다\n",
    "# 배열과 스칼라의 연산\n",
    "x = np.arange(12).reshape(3, 4) \n",
    "print(x)\n",
    "# 배열의 각 요소에 같은 값 더하기\n",
    "print(x + 2)\n",
    "# 배열과 배열의 연산\n",
    "y = np.array([1, 2, 3, 4])\n",
    "print(x + y)"
   ]
  },
  {
   "cell_type": "markdown",
   "metadata": {},
   "source": [
    "### numpy 난수 발생\n",
    "\n",
    "- 임의의 수가 필요할 때, 혹은 전체 데이터를 기반으로 샘플링을 하고자 할 때는 난수가 필요\n",
    "- numpy의 난수 발생은 단순히 임의의 난수를 넘어 다양한 통계(분포:distribution) 기반의 샘플링을 위한 난수 기능을 다양하게 제공\n",
    "- random 패키지 내에 위치\n",
    "\n",
    "- 다양한 난수 메서드들\n",
    "\n",
    "    - randint() : 정수 난수 발생\n",
    "    - randn() : n차원 난수 발생\n",
    "    - binomial() : 이항분포\n",
    "    - hypergeometric() : 초기하분포\n",
    "    - poisson() : 포아송 분포\n",
    "    - normal() : 정규 분포\n",
    "    - standart_t() : t-분포\n",
    "    - uniform() : 균등분포\n",
    "    - f() : f-분포\n",
    "    \n",
    "    - seed() : 재현 가능성(Reproductibility)을 위한 난수 초기값 설정"
   ]
  },
  {
   "cell_type": "code",
   "execution_count": 81,
   "metadata": {},
   "outputs": [
    {
     "name": "stdout",
     "output_type": "stream",
     "text": [
      "6\n",
      "[29 15 43  8 21 39]\n",
      "[[-0.91682684 -0.12414718 -2.01096289]\n",
      " [-0.49280342  0.39257975 -0.92918467]\n",
      " [ 0.07983181 -0.1595165   0.02222183]]\n",
      "정규 분포의 난수: -0.42779291360334537\n",
      "정규 분포의 난수(사이즈 지정): [[-0.53181741 -0.1174755 ]\n",
      " [ 0.2220789  -0.7679765 ]]\n",
      "균등 분포(사이즈 지정): [[0.38246199 0.98323089]\n",
      " [0.46676289 0.85994041]]\n"
     ]
    },
    {
     "data": {
      "image/png": "[encoded data removed]",
      "text/plain": [
       "<Figure size 432x288 with 1 Axes>"
      ]
     },
     "metadata": {
      "needs_background": "light"
     },
     "output_type": "display_data"
    }
   ],
   "source": [
    "%matplotlib inline\n",
    "# 기본적인 난수 발생과 분포 기반 난수를 연습합니다.\n",
    "# 기본적인 난수 발생 \n",
    "np.random.seed(seed=42) # 난수 seed설정 -> 랜덤의 재현성 확보를 위함\n",
    "\n",
    "# 정수 난수를 생성\n",
    "print(np.random.randint(10)) # 10보다 작은 정수 \n",
    "print(np.random.randint(1, 46, 6))\n",
    "\n",
    "# n차원의 난수 생성\n",
    "print(np.random.randn(3, 3)) # 3*3의 난수행렬\n",
    "\n",
    "#분포기반의 난수\n",
    "print(\"정규 분포의 난수:\", np.random.normal())\n",
    "print(\"정규 분포의 난수(사이즈 지정):\", np.random.normal(size=(2, 2))) # 정규분포 데이터, 2*2난수\n",
    "print(\"균등 분포(사이즈 지정):\", np.random.uniform(size=(2, 2)))\n",
    "\n",
    "# 연습\n",
    "# 평균이 0이고 표준편차가 3인 정규분포로부터 난수 100개를 발생시켜서 히스토그램을 그려보자\n",
    "rand_norm = np.random.normal(0.0, 3.0, size=100)\n",
    "#print(rand_norm)\n",
    "import matplotlib.pyplot as plt\n",
    "plt.hist(rand_norm)\n",
    "plt.show()"
   ]
  },
  {
   "cell_type": "markdown",
   "metadata": {},
   "source": [
    "### numpy 파일 저장/불러오기\n",
    "\n",
    "- numpy는 바이너리 형태로 저장 가능하며 저장된 데이터는 나중에 불러와 다시 사용할 수 있다\n",
    "\n",
    "- 저장 메서드\n",
    "    - save() : npy(비압축) 형태로 저장\n",
    "    - savez() : npz(압축) 형태로 저장. 압축 과정을 거치므로 save 메서드에 비해 속도는 느리지만, 대용량의 데이터 저장엔 용량의 측면에서 유리\n",
    "    \n",
    "- 불러오기 메서드\n",
    "    - load()"
   ]
  },
  {
   "cell_type": "code",
   "execution_count": 90,
   "metadata": {},
   "outputs": [
    {
     "name": "stdout",
     "output_type": "stream",
     "text": [
      "[[ 1.16181655e-02 -3.97445878e-01 -9.12265220e-02 ... -9.16469909e-01\n",
      "  -2.80767070e-01 -4.35763712e-01]\n",
      " [-4.45307944e-01 -2.61013844e+00  7.87521636e-01 ... -2.01230459e-01\n",
      "  -4.34679267e-01 -5.73117479e-01]\n",
      " [-6.85928307e-01 -4.84903103e-01  1.29975890e+00 ... -1.06956403e+00\n",
      "  -8.81984819e-01 -9.91120166e-01]\n",
      " ...\n",
      " [-7.08142331e-02 -1.28541518e+00  1.90023849e+00 ... -2.03891366e-01\n",
      "  -2.27025846e+00  5.82744605e-01]\n",
      " [-1.29431562e-01  7.09973832e-01  8.62179728e-01 ...  5.26686683e-02\n",
      "  -9.44419628e-01  1.93910564e+00]\n",
      " [-2.47019886e-03 -1.58625209e+00 -8.25136248e-01 ...  1.01856168e+00\n",
      "   1.50766479e+00 -1.01471826e-02]]\n"
     ]
    }
   ],
   "source": [
    "# numpy 파일 저장 불러오기 연습\n",
    "# 큰 배열을 생성 : 1000 * 1000의 난수 행렬\n",
    "original = np.random.randn(1000, 1000)\n",
    "print(original)\n",
    "\n",
    "# 기본적으로는 확장자를 지정안해도 적합한 확장자가 지정됌\n",
    "np.save(\"npydata\", original) # 비압축\n",
    "np.savez(\"npzdata\", original) # 압축 : 속도는 느리지만 용량은 효율적"
   ]
  },
  {
   "cell_type": "code",
   "execution_count": 94,
   "metadata": {},
   "outputs": [
    {
     "name": "stdout",
     "output_type": "stream",
     "text": [
      "['arr_0']\n"
     ]
    },
    {
     "data": {
      "text/plain": [
       "array([[ 1.16181655e-02, -3.97445878e-01, -9.12265220e-02, ...,\n",
       "        -9.16469909e-01, -2.80767070e-01, -4.35763712e-01],\n",
       "       [-4.45307944e-01, -2.61013844e+00,  7.87521636e-01, ...,\n",
       "        -2.01230459e-01, -4.34679267e-01, -5.73117479e-01],\n",
       "       [-6.85928307e-01, -4.84903103e-01,  1.29975890e+00, ...,\n",
       "        -1.06956403e+00, -8.81984819e-01, -9.91120166e-01],\n",
       "       ...,\n",
       "       [-7.08142331e-02, -1.28541518e+00,  1.90023849e+00, ...,\n",
       "        -2.03891366e-01, -2.27025846e+00,  5.82744605e-01],\n",
       "       [-1.29431562e-01,  7.09973832e-01,  8.62179728e-01, ...,\n",
       "         5.26686683e-02, -9.44419628e-01,  1.93910564e+00],\n",
       "       [-2.47019886e-03, -1.58625209e+00, -8.25136248e-01, ...,\n",
       "         1.01856168e+00,  1.50766479e+00, -1.01471826e-02]])"
      ]
     },
     "execution_count": 94,
     "metadata": {},
     "output_type": "execute_result"
    }
   ],
   "source": [
    "# 데이터 불러오기 : load\n",
    "recover = np.load(\"npydata.npy\")\n",
    "#print(recover)\n",
    "recoverz = np.load(\"npzdata.npz\")\n",
    "print(recoverz.files) # 배열 객ㅊ의 키확인\n",
    "recoverz['arr_0'] #해당 배열의 키를 내용 접근"
   ]
  }
 ],
 "metadata": {
  "kernelspec": {
   "display_name": "Python 3",
   "language": "python",
   "name": "python3"
  },
  "language_info": {
   "codemirror_mode": {
    "name": "ipython",
    "version": 3
   },
   "file_extension": ".py",
   "mimetype": "text/x-python",
   "name": "python",
   "nbconvert_exporter": "python",
   "pygments_lexer": "ipython3",
   "version": "3.7.4"
  }
 },
 "nbformat": 4,
 "nbformat_minor": 2
}
