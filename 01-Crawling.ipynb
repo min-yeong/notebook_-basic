{
 "cells": [
  {
   "cell_type": "markdown",
   "metadata": {},
   "source": [
    "- http://www.gutenberg.org/cache/epub/12429/pg12429.txt\n",
    "\n",
    "- 데이터를 크롤링하여 정규식으로 몇가지 사실을 알아내 봅시다 "
   ]
  },
  {
   "cell_type": "code",
   "execution_count": null,
   "metadata": {},
   "outputs": [],
   "source": [
    "# 수집 대상 url\n",
    "url = \"http://www.gutenberg.org/cache/epub/12429/pg12429.txt\"\n",
    "# urllib.request 객체 필요 \n",
    "import urllib.request\n",
    "# 페이지 데이터 가져오기 : urlopen\n",
    "page = urllib.request.urlopen(url)\n",
    "print(page, type(page))\n",
    "# 페이지의 텍스트 불러오기 : read\n",
    "# 디코딩 : decode()\n",
    "page_text = page.read().decode(\"utf-8\")\n",
    "print(page_text[:100])"
   ]
  },
  {
   "cell_type": "code",
   "execution_count": null,
   "metadata": {},
   "outputs": [],
   "source": [
    "# #01234->뭔가의코드일것이다 \n",
    "import re\n",
    "# 아마도 이것은 뭔가의 코드일 것이다 \n",
    "iter = re.finditer(r\"#[0-9]+\", page_text)\n",
    "# finditer : SRE_Match 객체의 리스트로 저장되고 순회 가능 \n",
    "for code in iter:\n",
    "    print(\"code\", code.group())"
   ]
  },
  {
   "cell_type": "code",
   "execution_count": null,
   "metadata": {},
   "outputs": [],
   "source": [
    "# 수집한 데이터가 Last Leaf 이므로 데이터안에 leaf 라는 단어가 얼마나 나오는지 확인 \n",
    "print(\"leaf:\", re.findall(r\"leaf\", page_text))\n",
    "# 복수형인 leaves는 얼마나 나오는지 확인\n",
    "print(\"leaves:\", re.findall(r\"leaves\", page_text))\n",
    "# 대문자의 경우(Leaf, Leaves) 확인\n",
    "print(\"Leaf or Leaves\", re.findall(r\"Leaf|Leaves\", page_text))\n",
    "# 위의 데이터가 전부 나오는 경우 확인\n",
    "print(re.findall(\"leaf|leaves\", page_text, re.IGNORECASE))\n",
    "\n",
    "# 첫글자가 대문자인 경우 -> 고유명사이거나 문장의 첫단어(\\b : 경계값(대문자가첫번째에있어야함)) \n",
    "p = re.compile(r\"\\b[A-Z]{1}[a-z]+\")\n",
    "iter = re.finditer(p, page_text)\n",
    "#for word in iter:\n",
    "#    print(\"첫 글자가 대문자인 단어:\", word.group())\n",
    "# 첫 글자가 대문자인 단어들의 리스트 생성\n",
    "words = [item.group().strip() for item in iter]\n",
    "# print(\"words:\", words)\n",
    "# 정렬\n",
    "words.sort()\n",
    "print(\"words:\", words)\n",
    "# 중복 제거\n",
    "words = list(set(words))\n",
    "print(\"첫글자가 대문자인 단어의 개수:\", len(words))"
   ]
  },
  {
   "cell_type": "code",
   "execution_count": null,
   "metadata": {},
   "outputs": [],
   "source": []
  }
 ],
 "metadata": {
  "kernelspec": {
   "display_name": "Python 3",
   "language": "python",
   "name": "python3"
  },
  "language_info": {
   "codemirror_mode": {
    "name": "ipython",
    "version": 3
   },
   "file_extension": ".py",
   "mimetype": "text/x-python",
   "name": "python",
   "nbconvert_exporter": "python",
   "pygments_lexer": "ipython3",
   "version": "3.7.4"
  }
 },
 "nbformat": 4,
 "nbformat_minor": 2
}
