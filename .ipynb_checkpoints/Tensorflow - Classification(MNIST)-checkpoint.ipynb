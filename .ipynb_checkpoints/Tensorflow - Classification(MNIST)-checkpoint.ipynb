{
 "cells": [
  {
   "cell_type": "code",
   "execution_count": 5,
   "metadata": {},
   "outputs": [
    {
     "name": "stdout",
     "output_type": "stream",
     "text": [
      "Extracting ./mnist/data\\train-images-idx3-ubyte.gz\n",
      "Extracting ./mnist/data\\train-labels-idx1-ubyte.gz\n",
      "Extracting ./mnist/data\\t10k-images-idx3-ubyte.gz\n",
      "Extracting ./mnist/data\\t10k-labels-idx1-ubyte.gz\n"
     ]
    }
   ],
   "source": [
    "import tensorflow as tf\n",
    "# MNIST 데이터 확보\n",
    "from tensorflow.examples.tutorials.mnist import input_data\n",
    "mnist = input_data.read_data_sets(\"./mnist/data\", one_hot=True)"
   ]
  },
  {
   "cell_type": "code",
   "execution_count": 6,
   "metadata": {},
   "outputs": [
    {
     "name": "stdout",
     "output_type": "stream",
     "text": [
      "학습 데이터: 55000\n",
      "테스트 데이터: 10000\n"
     ]
    }
   ],
   "source": [
    "# 데이터의 개수 확인\n",
    "print(\"학습 데이터:\", mnist.train.num_examples)\n",
    "print(\"테스트 데이터:\", mnist.test.num_examples)"
   ]
  },
  {
   "cell_type": "code",
   "execution_count": 24,
   "metadata": {},
   "outputs": [
    {
     "name": "stdout",
     "output_type": "stream",
     "text": [
      "Training Image Size: (784,)\n",
      "Label: [1. 0. 0. 0. 0. 0. 0. 0. 0. 0.]\n",
      "실제 라벨(Not One Hotcoding): 0\n"
     ]
    },
    {
     "data": {
      "image/png": "[encoded data removed]",
      "text/plain": [
       "<Figure size 432x288 with 1 Axes>"
      ]
     },
     "metadata": {
      "needs_background": "light"
     },
     "output_type": "display_data"
    }
   ],
   "source": [
    "%matplotlib inline\n",
    "# 데이터 살피기\n",
    "import matplotlib.pyplot as plt\n",
    "import numpy as np\n",
    "\n",
    "# mnist 안쪽의 데이터 확인\n",
    "#print(help(mnist))\n",
    "# 학습을 위한 이미지데이터 확인\n",
    "index = 10\n",
    "# 학습 이미지 사이즈 확인\n",
    "print(\"Training Image Size:\", mnist.train.images[index].shape) # 784 = 28 * 28 픽셀의 이미지\n",
    "# 학습 라벨 데이터 확인\n",
    "print(\"Label:\", mnist.train.labels[index])\n",
    "#print(\"image Data:\\n\", mnist.train.images[index].reshape(28, 28))\n",
    "plt.imshow(mnist.train.images[index].reshape(28, 28))\n",
    "print(\"실제 라벨(Not One Hotcoding):\", np.argmax(mnist.train.labels[index]))\n",
    "plt.show()"
   ]
  },
  {
   "cell_type": "code",
   "execution_count": 29,
   "metadata": {},
   "outputs": [],
   "source": [
    "# 신경망 구성 \n",
    "tf.reset_default_graph()\n",
    "# 입력층과 출력층 선언\n",
    "X = tf.placeholder(tf.float32, [None, 784], name=\"Input\") # 28*28 -> 학습데이터의 각 픽셀을 Feature로 삼는다 \n",
    "Y = tf.placeholder(tf.float32, [None, 10], name=\"Output\") # 최종출력 0 ~ 9, 총 10개의 결과로 분류하기 위한 노드\n",
    "\n",
    "# 입력층의 784개의 feature -> 첫번째 은닉층 256개로 전달하기 위한 가중치 \n",
    "W1 = tf.Variable(tf.random_normal([784, 256], stddev=0.01), name=\"Weight1\")\n",
    "L1 = tf.nn.relu(tf.matmul(X, W1), name=\"Activation1\") # L1 -> 입력 Feature * 가중치 -> 활성화함수(relu)\n",
    "# 첫번째 은닉층 256개로부터 두번째 은닉층 256개의 가중치 \n",
    "W2 = tf.Variable(tf.random_normal([256, 256], stddev=0.01, name=\"Weight2\"))\n",
    "L2 = tf.nn.relu(tf.matmul(L1, W2), name=\"Activation2\")\n",
    "# 두번째 은닉층 256개로부터 출력층 10개의 가중치 (활성화 함수는 생성안함)\n",
    "W3 = tf.Variable(tf.random_normal([256, 10], stddev=0.01, name=\"Weight3\"))\n",
    "# 모델 생성\n",
    "model = tf.matmul(L2, W3, name=\"model\")"
   ]
  },
  {
   "cell_type": "code",
   "execution_count": 32,
   "metadata": {},
   "outputs": [],
   "source": [
    "# cross entropy softmax를 이용하여 개별 이미지에 대한 손실값 계산 \n",
    "cost = tf.nn.softmax_cross_entropy_with_logits_v2(logits=model, labels=Y, name=\"CrossEntropy\")\n",
    "# 전체 평균 손실값\n",
    "cost = tf.reduce_mean(cost, name=\"CostFunction\")\n",
    "# 최적화 수행을 위한 옵티마이저 선택\n",
    "optimizer = tf.train.GradientDescentOptimizer(learning_rate=0.1).minimize(cost)\n",
    "# 변수 초기화를 위한 연산자\n",
    "init = tf.global_variables_initializer()"
   ]
  },
  {
   "cell_type": "code",
   "execution_count": 36,
   "metadata": {},
   "outputs": [
    {
     "ename": "SyntaxError",
     "evalue": "invalid syntax (<ipython-input-36-144bcb68fc50>, line 20)",
     "output_type": "error",
     "traceback": [
      "\u001b[1;36m  File \u001b[1;32m\"<ipython-input-36-144bcb68fc50>\"\u001b[1;36m, line \u001b[1;32m20\u001b[0m\n\u001b[1;33m    _, cost_val = sess.run([optimizer, cost], feed_dict{X:batch_xs, Y:batch_ys})\u001b[0m\n\u001b[1;37m                                                       ^\u001b[0m\n\u001b[1;31mSyntaxError\u001b[0m\u001b[1;31m:\u001b[0m invalid syntax\n"
     ]
    }
   ],
   "source": [
    "# 실제 연산의 수행 (Session 이용)\n",
    "sess = tf.Session()\n",
    "# Graph Writer \n",
    "tf.summary.FileWriter(\"d:/log_dir/mnist\", graph=sess.graph)\n",
    "# 변수 초기화\n",
    "sess.run(init)\n",
    "\n",
    "# 전체 학습 데이터를 나눠서 학습 : Mini Batch\n",
    "batch_size = 100\n",
    "total_batch = int(mnist.train.num_examples/batch_size)\n",
    "\n",
    "# 실제 30회 학습 실행\n",
    "for epoch in range(30): # 1 epoch : 전체 학습 데이터를 1회 학습\n",
    "    total_cost = 0\n",
    "    # 미니 배치 방식으로 전체 데이터를 학습\n",
    "    for i in range(total_batch):\n",
    "        # batch_size만큼 나누어서 학습 수행 \n",
    "        batch_xs, batch_ys = mnist.train.next_batch(batch_size)\n",
    "        \n",
    "        _, cost_val = sess.run([optimizer, cost], feed_dict{X:batch_xs, Y:batch_ys})\n",
    "        total_cost += cost_val # 총 손실값을 인 \n",
    "        # 전체 데이터를 1회 학습 -> 1 Epoch\n",
    "    print(\"Epoch {}회의 평균 Cost:{}\",format(epoch+1, total_cost/total_batch))\n",
    "print(\"최적화 완료\")\n",
    "\n",
    "# 테스트 데이터를 그대로 입력하여 실제 결과와 평균을 비교 -> 정확도\n",
    "is_correct = tf.equal(tf.argmax(model, 1), tf.argmax(Y, 1))\n",
    "accuracy = tf.reduce_mean(tf.cast(is_correct, tf.float32))\n",
    "print(\"정확도:\", sess,run(accuracy, feed_dict={X:mnist.test.images, Y:mnist.test.labels}))\n",
    "sess.close()"
   ]
  },
  {
   "cell_type": "code",
   "execution_count": 37,
   "metadata": {},
   "outputs": [
    {
     "ename": "SyntaxError",
     "evalue": "unexpected EOF while parsing (<ipython-input-37-02a1603f9de8>, line 3)",
     "output_type": "error",
     "traceback": [
      "\u001b[1;36m  File \u001b[1;32m\"<ipython-input-37-02a1603f9de8>\"\u001b[1;36m, line \u001b[1;32m3\u001b[0m\n\u001b[1;33m    print(\"최종 가중치 3:\", sess.run(W3)\u001b[0m\n\u001b[1;37m                                   ^\u001b[0m\n\u001b[1;31mSyntaxError\u001b[0m\u001b[1;31m:\u001b[0m unexpected EOF while parsing\n"
     ]
    }
   ],
   "source": [
    "print(\"최종 가중치:\", sess.run(W1))\n",
    "print(\"최종 가중치 2:\", sess.run(W2))\n",
    "print(\"최종 가중치 3:\", sess.run(W3)"
   ]
  },
  {
   "cell_type": "code",
   "execution_count": null,
   "metadata": {},
   "outputs": [],
   "source": [
    "# 총 10개의 test 데이터를 확인해보고 test라벨과 매칭 확인\n",
    "lables = sess.run(model, feed_dict={X:mnist.test.images, Y:mnist.test.labels}\n",
    "# 2*5dm의 차트만들기\n",
    "fig = plt.figure()\n",
    "for i in range(10):\n",
    "    subplot = fig_.add_sunplot(2, 5, i+1)\n",
    "    subplot.imshow(mnist.test.images[i].reshaoe(28, 28))\n",
    "    subplot.set_xticks([])\n",
    "    subplot.set_yticks([])\n",
    "    sublpot.set_title(\"$d\" % np.argmax(labels[i]))"
   ]
  }
 ],
 "metadata": {
  "kernelspec": {
   "display_name": "Python 3",
   "language": "python",
   "name": "python3"
  },
  "language_info": {
   "codemirror_mode": {
    "name": "ipython",
    "version": 3
   },
   "file_extension": ".py",
   "mimetype": "text/x-python",
   "name": "python",
   "nbconvert_exporter": "python",
   "pygments_lexer": "ipython3",
   "version": "3.7.4"
  }
 },
 "nbformat": 4,
 "nbformat_minor": 2
}
