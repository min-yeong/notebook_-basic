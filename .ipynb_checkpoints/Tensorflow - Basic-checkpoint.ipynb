{
 "cells": [
  {
   "cell_type": "code",
   "execution_count": 4,
   "metadata": {},
   "outputs": [
    {
     "name": "stdout",
     "output_type": "stream",
     "text": [
      "[[0. 0.]\n",
      " [0. 0.]]\n"
     ]
    }
   ],
   "source": [
    "import tensorflow as tf\n",
    "\n",
    "ta = tf.zeros((2, 2)) # 2행 2열의 2차원 텐서 \n",
    "session = tf.InteractiveSession() # session이 없으면 출력이 안됌\n",
    "print(ta.eval())\n",
    "session.close()"
   ]
  },
  {
   "cell_type": "code",
   "execution_count": 7,
   "metadata": {},
   "outputs": [
    {
     "name": "stdout",
     "output_type": "stream",
     "text": [
      "a * b =  600\n"
     ]
    }
   ],
   "source": [
    "# 앞서 실행했던 세션의 그래프를 리셋 \n",
    "tf.reset_default_graph()\n",
    "\n",
    "# Graph를 먼저 만들어서 데이터 흐름을 표현한다 \n",
    "# 두 개의 수를 곱하는 데이터의 흐름\n",
    "a = tf.constant(20, name=\"a\")\n",
    "b = tf.constant(30, name=\"b\")\n",
    "mul_op = tf.multiply(a, b)\n",
    "\n",
    "# 실행 후 그래프를 직접 시각화 하기\n",
    "with tf.Session() as sess:\n",
    "    # 그래프 시각화를 위해 로그 정보를 기록 \n",
    "    tf.summary.FileWriter(\"d:/log_dir\", graph=sess.graph)\n",
    "    print(\"a * b = \",sess.run(mul_op))"
   ]
  },
  {
   "cell_type": "code",
   "execution_count": 28,
   "metadata": {},
   "outputs": [
    {
     "name": "stdout",
     "output_type": "stream",
     "text": [
      "[[0. 0. 0.]\n",
      " [0. 0. 0.]\n",
      " [0. 0. 0.]]\n",
      "[[0. 0.]\n",
      " [0. 0.]]\n",
      "3.0\n",
      "4.0\n"
     ]
    }
   ],
   "source": [
    "# 변수(tf.Variable -> tf.global_variables_initializer로 초기화)와 상수(tf.constant)\n",
    "hello = tf.constant(\"Hello, Tansorflow\")\n",
    "w1 = tf.zeros((3, 3)) # 3행 3열의 0으로 채워진 텐서\n",
    "var1 = tf.Variable(tf.zeros((2, 2)), name=\"weights\")\n",
    "# 2행 2열의 0으로 채워진 텐서\n",
    "node1 = tf.constant(3.0, dtype=tf.float32) # dtype으로 텐서의 내부데이터 타입을 설정할 수 있다\n",
    "node2 = tf.constant(4.0) # dtype이 생략되면 tf.float32타입으로 자동 결정\n",
    "init_op = tf.global_variables_initializer()\n",
    "\n",
    "with tf.Session() as sess:\n",
    "    # 변수가 있을 경우 초기화를 먼저 실행\n",
    "    sess.run(init_op)\n",
    "    print(sess.run(w1))\n",
    "    print(sess.run(var1))\n",
    "    print(node1.eval())\n",
    "    print(node2.eval())"
   ]
  },
  {
   "cell_type": "code",
   "execution_count": 12,
   "metadata": {},
   "outputs": [
    {
     "name": "stdout",
     "output_type": "stream",
     "text": [
      "실제 연산의 수행: 5\n"
     ]
    }
   ],
   "source": [
    "# Graph의 생성 \n",
    "# Session \n",
    "# - Tensor : Data\n",
    "# - Tenserflow : Data의 flow\n",
    "# 개별적으로 연산 수행하는 것이 아니라 데이터의 흐름을 그래프로 표현한 이후 실제 연산은 Session에서 수행\n",
    "tf.reset_default_graph() # 그래프 초기화\n",
    "\n",
    "a = tf.constant(2, name=\"a\")\n",
    "b = tf.constant(3, name=\"b\")\n",
    "add_op = tf.add(a, b, name=\"Add\")\n",
    "\n",
    "with tf.Session() as sess:\n",
    "    tf.summary.FileWriter(\"d:/log_dir\", graph=sess.graph)\n",
    "    print(\"실제 연산의 수행:\", sess.run(add_op))"
   ]
  },
  {
   "cell_type": "code",
   "execution_count": 15,
   "metadata": {},
   "outputs": [
    {
     "name": "stdout",
     "output_type": "stream",
     "text": [
      "scala 변수: 1 <tf.Variable 'scalar1:0' shape=() dtype=int32_ref>\n",
      "scala 변수: 2 <tf.Variable 'scalar2:0' shape=() dtype=int32_ref>\n",
      "matrix 변수: [[0 1]\n",
      " [2 3]] <tf.Variable 'matrix:0' shape=(2, 2) dtype=int32_ref>\n",
      "분포를 이용한 matrix변수의 초기화: [[ 0.00630934 -0.0064672  -0.00478495 ...  0.01200639 -0.00276157\n",
      "  -0.01199591]\n",
      " [-0.00644527 -0.00071965 -0.00935252 ... -0.00574279 -0.00474724\n",
      "  -0.00979109]\n",
      " [ 0.00633551  0.0029224  -0.00196683 ... -0.01010504 -0.01302803\n",
      "   0.01761881]\n",
      " ...\n",
      " [-0.01674596  0.00537511 -0.0120974  ... -0.00031949 -0.00471436\n",
      "  -0.00122096]\n",
      " [-0.01360172 -0.00316819  0.0064718  ... -0.00556088 -0.00145255\n",
      "  -0.00453737]\n",
      " [-0.00055312  0.00768637  0.01253852 ...  0.00735239 -0.00703064\n",
      "   0.00112044]] <tf.Variable 'big_matrix:0' shape=(784, 10) dtype=float32_ref>\n"
     ]
    }
   ],
   "source": [
    "# 변수 : 저장 및 변경이 가능, 텐서플로의 초기화 메서드로 할당 및 변경 가능 \n",
    "tf.reset_default_graph() # 그래프 초기화\n",
    "\n",
    "s1 = tf.get_variable(name=\"scalar1\", initializer=1)\n",
    "s2 = tf.get_variable(name=\"scalar2\", initializer=tf.constant(2))\n",
    "m = tf.get_variable(name=\"matrix\", initializer=tf.constant([[0, 1], [2, 3]]))\n",
    "M = tf.get_variable(name=\"big_matrix\", shape=(784, 10), initializer=tf.truncated_normal_initializer(mean=0.0, stddev=0.01))\n",
    "\n",
    "# 변수는 항상 초기화 연산을 먼저 수행해야 한다\n",
    "init_op = tf.global_variables_initializer()\n",
    "with tf.Session() as sess:\n",
    "    tf.summary.FileWriter(\"d:/log_dir\", graph=sess.graph)\n",
    "    # 변수 초기화\n",
    "    sess.run(init_op)\n",
    "    print(\"scala 변수:\", sess.run(s1), s1)\n",
    "    print(\"scala 변수:\", sess.run(s2), s2)\n",
    "    print(\"matrix 변수:\", sess.run(m), m)\n",
    "    print(\"분포를 이용한 matrix변수의 초기화:\", sess.run(M), M)"
   ]
  },
  {
   "cell_type": "code",
   "execution_count": 26,
   "metadata": {},
   "outputs": [
    {
     "name": "stdout",
     "output_type": "stream",
     "text": [
      "Add with placeholder: [6. 7. 8.]\n"
     ]
    }
   ],
   "source": [
    "# PlaceHolder : 값 혹은 사이즈가 미정, 실행되는 시점에서 값이 결정된다\n",
    "tf.reset_default_graph()\n",
    "a = tf.placeholder(tf.float32, shape=[5]) # 1차원 텐서(이름이 없음)\n",
    "b = tf.placeholder(tf.float32) # shape가 지정되지 않은 이름없는 1차원 텐서\n",
    "X = tf.placeholder(tf.float32, shape=[None, 784], name=\"input\") # 열의 갯수는 784개, 행의 갯수가 미정인 이름이 imput인 2차원 텐서 \n",
    "Y = tf.placeholder(tf.float32, shape=[None, 10], name=\"label\") \n",
    "\n",
    "a = tf.constant([5, 5, 5], tf.float32, name=\"A\") # 3열의 1차원 상수 텐서\n",
    "b = tf.placeholder(tf.float32, shape=[3], name=\"B\") # 3열의 1차원 placeholder\n",
    "c = tf.add(a, b, name=\"Add\")\n",
    "with tf.Session() as sess:\n",
    "    # placeholder에 실행 시점에서 데이터를 전달하고자 한다면 사전을 만들어서 전달 가능\n",
    "    d = {b: [1, 2, 3]}\n",
    "    # placeholder의 사전을 전달해서 실행 \n",
    "    print(\"Add with placeholder:\", sess.run(c, feed_dict=d)) # feed_dict인자로 사전 전달 "
   ]
  },
  {
   "cell_type": "code",
   "execution_count": null,
   "metadata": {},
   "outputs": [],
   "source": []
  }
 ],
 "metadata": {
  "kernelspec": {
   "display_name": "Python 3",
   "language": "python",
   "name": "python3"
  },
  "language_info": {
   "codemirror_mode": {
    "name": "ipython",
    "version": 3
   },
   "file_extension": ".py",
   "mimetype": "text/x-python",
   "name": "python",
   "nbconvert_exporter": "python",
   "pygments_lexer": "ipython3",
   "version": "3.7.4"
  }
 },
 "nbformat": 4,
 "nbformat_minor": 2
}
