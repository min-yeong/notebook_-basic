{
 "cells": [
  {
   "cell_type": "code",
   "execution_count": 1,
   "metadata": {},
   "outputs": [
    {
     "data": {
      "text/plain": [
       "<InsecureClient(url='http://192.168.56.101:50070')>"
      ]
     },
     "execution_count": 1,
     "metadata": {},
     "output_type": "execute_result"
    }
   ],
   "source": [
    "# hdfs client 로드\n",
    "from hdfs import InsecureClient\n",
    "# client 연결\n",
    "client = InsecureClient(\"http://192.168.56.101:50070\", user=\"bituser\")\n",
    "client"
   ]
  },
  {
   "cell_type": "code",
   "execution_count": 3,
   "metadata": {},
   "outputs": [
    {
     "name": "stdout",
     "output_type": "stream",
     "text": [
      "/ 디렉터리 내의 파일\n",
      "File: hadoop\n",
      "/hadoop 디렉터리 내의 파일\n",
      "File: hadoop-2.9.2.tar.gz\n"
     ]
    }
   ],
   "source": [
    "def list_test(path):\n",
    "    # 파일 목록 보기 : hdfs dfs -ls\n",
    "    files = client.list(path)\n",
    "    \n",
    "    if len(files) == 0:\n",
    "        print(\"File Not Found\")\n",
    "    else: # 파일이 있다\n",
    "        for file in files:\n",
    "            print(\"File:\", file)\n",
    "print(\"/ 디렉터리 내의 파일\")\n",
    "list_test(\"/\")\n",
    "print(\"/hadoop 디렉터리 내의 파일\")\n",
    "list_test(\"/hadoop\")"
   ]
  },
  {
   "cell_type": "code",
   "execution_count": 5,
   "metadata": {},
   "outputs": [
    {
     "name": "stdout",
     "output_type": "stream",
     "text": [
      "/hadoop 디렉터리 내의 파일\n",
      "File: hadoop-2.9.2.tar.gz\n",
      "File: test\n",
      "/hadoop 디렉터리 내의 파일\n",
      "File: hadoop-2.9.2.tar.gz\n"
     ]
    }
   ],
   "source": [
    "# 디렉터리 관리\n",
    "def makedirs_test(path):\n",
    "    # hdfs dfs -mkdir\n",
    "    client.makedirs(path)\n",
    "    \n",
    "def delete_test(path, r=True):\n",
    "    # hdfs dfs -rm\n",
    "    # 파일 혹은 디렉터리를 지움\n",
    "    client.delete(path, recursive=r)\n",
    "    \n",
    "makedirs_test(\"/hadoop/test\")\n",
    "print(\"/hadoop 디렉터리 내의 파일\")\n",
    "list_test(\"/hadoop\")\n",
    "\n",
    "# 디렉터리 삭제\n",
    "delete_test(\"/hadoop/test\")\n",
    "print(\"/hadoop 디렉터리 내의 파일\")\n",
    "list_test(\"/hadoop\")"
   ]
  },
  {
   "cell_type": "code",
   "execution_count": 8,
   "metadata": {},
   "outputs": [],
   "source": [
    "# 디렉터리 내에 파일을 만들고 내용을 write하고 read 해보자\n",
    "# 내용 수정이 안되기 때문에 해당 파일을 삭제후 write 해야함\n",
    "delete_test(\"/hadoop/mytext.txt\", r=False)\n",
    "with client.write(\"/hadoop/mytext.txt\", encoding=\"utf-8\") as writer:\n",
    "    writer.write(\"Hello, Hadoop!\")"
   ]
  },
  {
   "cell_type": "code",
   "execution_count": 9,
   "metadata": {},
   "outputs": [
    {
     "name": "stdout",
     "output_type": "stream",
     "text": [
      "HDFS Read: Hello, Hadoop!\n"
     ]
    }
   ],
   "source": [
    "# hdfs에서 파일 읽어오기\n",
    "with client.read(\"/hadoop/mytext.txt\", encoding=\"utf-8\") as reader:\n",
    "    data = reader.read()\n",
    "print(\"HDFS Read:\", data)"
   ]
  },
  {
   "cell_type": "code",
   "execution_count": null,
   "metadata": {},
   "outputs": [],
   "source": []
  }
 ],
 "metadata": {
  "kernelspec": {
   "display_name": "Python 3",
   "language": "python",
   "name": "python3"
  },
  "language_info": {
   "codemirror_mode": {
    "name": "ipython",
    "version": 3
   },
   "file_extension": ".py",
   "mimetype": "text/x-python",
   "name": "python",
   "nbconvert_exporter": "python",
   "pygments_lexer": "ipython3",
   "version": "3.7.4"
  }
 },
 "nbformat": 4,
 "nbformat_minor": 2
}
