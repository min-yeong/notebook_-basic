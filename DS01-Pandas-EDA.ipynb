{
 "cells": [
  {
   "cell_type": "code",
   "execution_count": null,
   "metadata": {},
   "outputs": [],
   "source": [
    "# Pandas : 데이터 사이언스를 위한 python package\n",
    "# Pandas 모듈을 임포트 일반적으로 pd 별칭으로 임포트\n",
    "import pandas as pd\n",
    "\n",
    "# 판다스에서 csv(tsv) 불러오기\n",
    "# read_csv 명령에 sep로 구분자를 부여(기본값은 ,)\n",
    "df = pd.read_csv(\"./data/gapminder.tsv\", sep=\"\\t\") #tsv\n"
   ]
  },
  {
   "cell_type": "code",
   "execution_count": null,
   "metadata": {},
   "outputs": [],
   "source": [
    "# 데이터 살펴보기\n",
    "# 앞쪽 데이터의 확인\n",
    "print(df.head()) # 기본값은 5개\n",
    "(\"첫 3개 행\")\n",
    "print(df.head(3))"
   ]
  },
  {
   "cell_type": "code",
   "execution_count": null,
   "metadata": {},
   "outputs": [],
   "source": [
    "# 뒷쪽 행의 활인 :tail()\n",
    "print(df.tail(6)) # 기본값은 5개 지정아면 그 갯수만큼"
   ]
  },
  {
   "cell_type": "code",
   "execution_count": null,
   "metadata": {},
   "outputs": [],
   "source": [
    "# 데이터 타입의 확인\n",
    "print(\"type of df:\", type(df))"
   ]
  },
  {
   "cell_type": "code",
   "execution_count": null,
   "metadata": {},
   "outputs": [],
   "source": [
    "# 데이터타입의 크기\n",
    "print(\"size of df:\", df.shape) #tuple\n",
    "\"df는 {}행 {}열의 데이터 프레임\".format(df.shape[0], df.shape[1])"
   ]
  },
  {
   "cell_type": "code",
   "execution_count": null,
   "metadata": {},
   "outputs": [],
   "source": [
    "# df는 어떤 변수를 가지고 있는가 :columns\n",
    "print(df.columns)"
   ]
  },
  {
   "cell_type": "code",
   "execution_count": null,
   "metadata": {},
   "outputs": [],
   "source": [
    "# df의 전반적인 정보 확인\n",
    "df.info()"
   ]
  },
  {
   "cell_type": "code",
   "execution_count": null,
   "metadata": {},
   "outputs": [],
   "source": [
    "# 각 컬럼의 자료형 확인\n",
    "# daraFrame 자료형 object는 python str\n",
    "df.dtypes"
   ]
  },
  {
   "cell_type": "code",
   "execution_count": null,
   "metadata": {},
   "outputs": [],
   "source": [
    "# 단일 컬럼의 추출\n",
    "# df.columns\n",
    "countries = df['country']\n",
    "print(\"type of countries:\", type(countries)) # series\n",
    "# 이 데이터를 기반으로 여러탐색작업을 수행할 수 있다\n",
    "# 복수 개의 컬럼 추출\n",
    "# 컬럼의 리스트를 제공하면 됨\n",
    "subset = df[['country', 'continent', 'year']]\n",
    "print(\"type of subset:\", type(subset))\n",
    "# Dataframe\n",
    "subset.head()"
   ]
  },
  {
   "cell_type": "code",
   "execution_count": null,
   "metadata": {},
   "outputs": [],
   "source": [
    "# 특정 행(관측치)의 추출\n",
    "# loc : 숫자 이외릐 객체로도 지정 가능\n",
    "#       변경 가능\n",
    "# iloc : 행 번호(숫자)만으로 접근 가능\n",
    "#       데이터 내용이 변경되지 않으면 항상 동일\n",
    "print(df.loc[3]) #인덱스를 이용한 접근\n",
    "print(df.iloc[3]) # 행 번호를 이용한 접근\n",
    "\n",
    "print(type(df.iloc[3]))"
   ]
  },
  {
   "cell_type": "code",
   "execution_count": null,
   "metadata": {},
   "outputs": [],
   "source": [
    "# 복수 개의 행의 추출\n",
    "# 추출하고자 하는 행의 인덱스를 리스트로 전달\n",
    "df.loc[[0, 99, 999]] # 0, 99, 999 인덱스 추출"
   ]
  },
  {
   "cell_type": "code",
   "execution_count": null,
   "metadata": {},
   "outputs": [],
   "source": [
    "# loc는 인덱스  iloc는 행번호\n",
    "# iloc는 역인덱싱이 가능\n",
    "#  가장 마지막 행을 추출\n",
    "print(\"마지막 행 (loc):\", df.loc[df.shape[0]-1])\n",
    "print(\"마지막행(iloc):\", df.iloc[-1]) # 가장 마지막\n",
    "print(\"마지막행(tail):\", df.tail(1))"
   ]
  },
  {
   "cell_type": "code",
   "execution_count": null,
   "metadata": {},
   "outputs": [],
   "source": [
    "# 슬라이싱 구문을 이용한 행과 열의 추출\n",
    "subset2 = df.loc[:, [\"year\", \"pop\"]]\n",
    "# 전체 행 범위(:) 내에서\"year\", \"pop\" 컬럼\n",
    "subset2.head()"
   ]
  },
  {
   "cell_type": "code",
   "execution_count": null,
   "metadata": {},
   "outputs": [],
   "source": [
    "# 컬럼의 범위는 위치 인덱스로도 지정할 수 있다\n",
    "subset3 = df.iloc[:, [2, 4, -1]]\n",
    "# 전체 행 내에서 2번째, 4번째, 마지막 컬럼 추출\n",
    "subset3.head()"
   ]
  },
  {
   "cell_type": "code",
   "execution_count": null,
   "metadata": {},
   "outputs": [],
   "source": [
    "# 범위 객체를 이용한 컬럼의 추출\n",
    "r = range(4) # 0 ~ 3까지의 범위\n",
    "df.iloc[:, r].head()\n",
    "# 전체 행에서 0, 1, 2, 3번 위치의 컬럼 추출"
   ]
  },
  {
   "cell_type": "code",
   "execution_count": null,
   "metadata": {},
   "outputs": [],
   "source": [
    "# 통계치의 추출\n",
    "# df의 lifeExp의 산술 평균\n",
    "print(\"기대수명의 평균:\", df['lifeExp'].mean())\n",
    "df['lifeExp'].describe() # 기초 통계량"
   ]
  },
  {
   "cell_type": "code",
   "execution_count": null,
   "metadata": {},
   "outputs": [],
   "source": [
    "# 데이터셋을 grouping(year)\n",
    "grouped_year_df = df.groupby(\"year\")\n",
    "print(grouped_year_df)\n",
    "print(type(grouped_year_df))"
   ]
  },
  {
   "cell_type": "code",
   "execution_count": null,
   "metadata": {},
   "outputs": [],
   "source": [
    "# 그룹핑된 데이터셋의 컬럼의 기초통계량 계산\n",
    "grouped_year_df['lifeExp'].mean()"
   ]
  },
  {
   "cell_type": "code",
   "execution_count": null,
   "metadata": {},
   "outputs": [],
   "source": [
    "grouped_year_df.describe()"
   ]
  },
  {
   "cell_type": "code",
   "execution_count": null,
   "metadata": {},
   "outputs": [],
   "source": [
    "# 여러 컬럼의 산술 평균\n",
    "grouped_year_df[['lifeExp', 'gdpPercap']].mean()"
   ]
  },
  {
   "cell_type": "code",
   "execution_count": null,
   "metadata": {},
   "outputs": [],
   "source": [
    "# Matplotlib를 이용한 시각화\n",
    "life_exp = df.groupby('year')['lifeExp'].mean() # Plot의 Y 축 데이터\n",
    "life_exp.head()"
   ]
  },
  {
   "cell_type": "code",
   "execution_count": null,
   "metadata": {},
   "outputs": [],
   "source": [
    "%matplotlib inline\n",
    "# 차트를 그려봅니다\n",
    "# matplotlib를 임포트하면\n",
    "# Dataframe 내에 타츠 메서드들이\n",
    "# 동적으로 추가된다\n",
    "import matplotlib.pyplot as plt\n",
    "# 별칭으로 plt 사용\n",
    "life_exp.plot()"
   ]
  }
 ],
 "metadata": {
  "kernelspec": {
   "display_name": "Python 3",
   "language": "python",
   "name": "python3"
  },
  "language_info": {
   "codemirror_mode": {
    "name": "ipython",
    "version": 3
   },
   "file_extension": ".py",
   "mimetype": "text/x-python",
   "name": "python",
   "nbconvert_exporter": "python",
   "pygments_lexer": "ipython3",
   "version": "3.7.4"
  }
 },
 "nbformat": 4,
 "nbformat_minor": 2
}
