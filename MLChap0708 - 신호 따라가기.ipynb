{
 "cells": [
  {
   "cell_type": "code",
   "execution_count": 9,
   "metadata": {},
   "outputs": [],
   "source": [
    "import numpy as np\n",
    "\n",
    "def sigmoid_function(x):\n",
    "    return 1 / (1+np.exp(-x))"
   ]
  },
  {
   "cell_type": "code",
   "execution_count": 10,
   "metadata": {},
   "outputs": [
    {
     "name": "stdout",
     "output_type": "stream",
     "text": [
      "출력 노드1: 0.740774899182154\n",
      "출력 노드2: 0.6224593312018546\n"
     ]
    }
   ],
   "source": [
    "# 입력 레이어(계층 1)\n",
    "input1, input2 = 1.0, 0.5\n",
    "# 출력 레이어 (계층 2)\n",
    "output1 = output2 = None\n",
    "# 가중치 초기화 \n",
    "W11 = 0.9 # 입력 레이어 1노드 -> 출력레이어 1노드 가중치\n",
    "W12 = 0.2\n",
    "W21 = 0.3\n",
    "W22 = 0.8\n",
    "\n",
    "# 첫 계층은 입력 계층은 단순히 입력만을 받음, 출력 계층에서는 입력 계층에서 입력된 값에 가중치를 곱한 것의 합 -> 활성화 함수 적용\n",
    "output1 = W11 * input1 + W21 * input2 # 모든 가중치 적용 입력의 합산값 \n",
    "output1 = sigmoid_function(output1)\n",
    "output2 = W12 * input2 + W22 * input2\n",
    "output2 = sigmoid_function(output2)\n",
    "\n",
    "# 출력 노드 확인\n",
    "print(\"출력 노드1:\", output1)\n",
    "print(\"출력 노드2:\", output2)"
   ]
  },
  {
   "cell_type": "code",
   "execution_count": 13,
   "metadata": {},
   "outputs": [
    {
     "name": "stdout",
     "output_type": "stream",
     "text": [
      "가중치 행렬:\n",
      " [[0.9 0.2]\n",
      " [0.2 0.8]]\n",
      "입력값의 벡터\n",
      " [1.  0.5]\n",
      "행렬의 내적곱:\n",
      " [1.  0.6]\n",
      "출력: [0.73105858 0.64565631]\n"
     ]
    }
   ],
   "source": [
    "# 행렬 곱(내적)을 이용한 가중치의 계산\n",
    "# 가중치 행렬\n",
    "W = np.array([\n",
    "    [W11, W12],\n",
    "    [W12, W22]\n",
    "])\n",
    "print(\"가중치 행렬:\\n\", W)\n",
    "\n",
    "l = np.array([input1, input2])\n",
    "print(\"입력값의 벡터\\n\", l)\n",
    "\n",
    "X = np.dot(W, l) # 행렬의 내적곱\n",
    "print(\"행렬의 내적곱:\\n\", X)\n",
    "\n",
    "# 활성화 함수 적용\n",
    "O = sigmoid_function(X)\n",
    "print(\"출력:\", O)"
   ]
  }
 ],
 "metadata": {
  "kernelspec": {
   "display_name": "Python 3",
   "language": "python",
   "name": "python3"
  },
  "language_info": {
   "codemirror_mode": {
    "name": "ipython",
    "version": 3
   },
   "file_extension": ".py",
   "mimetype": "text/x-python",
   "name": "python",
   "nbconvert_exporter": "python",
   "pygments_lexer": "ipython3",
   "version": "3.7.4"
  }
 },
 "nbformat": 4,
 "nbformat_minor": 2
}
